{
  "cells": [
    {
      "cell_type": "markdown",
      "metadata": {
        "id": "DM9nFrLFCR9X"
      },
      "source": [
        "## Final Project Submission\n",
        "**Student name:** David Boyd\n",
        "\n",
        "**Student pace:** Self paced\n",
        "\n",
        "**Scheduled project review date/time:** 9/05/2023 21:00 UK time\n",
        "\n",
        "**Instructor name:** Abhineet"
      ]
    },
    {
      "cell_type": "markdown",
      "metadata": {
        "id": "5J_vWPFlCR9e"
      },
      "source": [
        "## Business Objective\n",
        "\n",
        "We want to build a model that helps to identify via tweets whether there was a positive, negative or neutral sentiment  in the messsage, either towards a brand or a product/app. The dataset we are using focuses on 9000 different tweets that happened during SXSW event and has four different options of sentiment these are:\n",
        "- Positive\n",
        "- Negative\n",
        "- Neutral/neither positive nor negative\n",
        "- I can't tell"
      ]
    },
    {
      "cell_type": "markdown",
      "metadata": {
        "id": "pIVsQR25CR9f"
      },
      "source": [
        "## Data Understanding\n",
        "\n",
        "The dataset comes from CrowdFlower via data.worldLinks. Human raters rated the sentiment in over 9,000 Tweets as positive, negative, or neither, which can be found in tweets_dataset.csv in the data folder in this repository. The dataset includes 9,092 entries, and 3 columns. Here are the columns in the dataset including our target variable, sentiment\n",
        "\n",
        "- `tweet_text` - The column contains the contents of the tweet that was captured\n",
        "- `emotion_in_tweet_is_directed_at` - This column identifies whether the tweet was targeted to a brand or a specific product. There are a lot of NULL values in this column, so it's not super helpful initially\n",
        "- `is_there_an_emotion_directed_at_a_brand_or_product` - This column helps to identify the sentiment of the tweet"
      ]
    },
    {
      "cell_type": "markdown",
      "metadata": {
        "id": "EJbRY7AgCR9g"
      },
      "source": [
        "## Importing packages & EDA"
      ]
    },
    {
      "cell_type": "code",
      "execution_count": 1,
      "metadata": {
        "id": "LW3A0jEHCR9h"
      },
      "outputs": [],
      "source": [
        "## installing all the packages used throughout the notebook\n",
        "import pandas as pd\n",
        "import numpy as np\n",
        "import seaborn as sns  \n",
        "import matplotlib.pyplot as plt\n",
        "\n",
        "import nltk\n",
        "from nltk.tokenize import regexp_tokenize, word_tokenize, RegexpTokenizer\n",
        "from nltk.corpus import stopwords, wordnet\n",
        "from nltk import pos_tag\n",
        "from nltk.stem import WordNetLemmatizer\n",
        "\n",
        "\n",
        "from sklearn.feature_extraction.text import TfidfVectorizer, CountVectorizer\n",
        "from sklearn.feature_selection import chi2\n",
        "\n",
        "from sklearn.model_selection import train_test_split\n",
        "from sklearn.feature_extraction.text import TfidfTransformer\n",
        "from sklearn.naive_bayes import MultinomialNB\n",
        "from sklearn.ensemble import RandomForestClassifier\n",
        "from sklearn.model_selection import cross_val_score\n",
        "from sklearn.metrics import confusion_matrix, accuracy_score, recall_score, precision_score\n",
        "from sklearn import metrics"
      ]
    },
    {
      "cell_type": "code",
      "execution_count": 2,
      "metadata": {
        "id": "JXfiQ2_eCR9k",
        "outputId": "129ae488-a544-4335-b41f-d87479234e51",
        "colab": {
          "base_uri": "https://localhost:8080/"
        }
      },
      "outputs": [
        {
          "output_type": "stream",
          "name": "stderr",
          "text": [
            "[nltk_data] Downloading package averaged_perceptron_tagger to\n",
            "[nltk_data]     /root/nltk_data...\n",
            "[nltk_data]   Unzipping taggers/averaged_perceptron_tagger.zip.\n",
            "[nltk_data] Downloading package wordnet to /root/nltk_data...\n"
          ]
        },
        {
          "output_type": "execute_result",
          "data": {
            "text/plain": [
              "True"
            ]
          },
          "metadata": {},
          "execution_count": 2
        }
      ],
      "source": [
        "nltk.download('averaged_perceptron_tagger')\n",
        "nltk.download('wordnet')"
      ]
    },
    {
      "cell_type": "code",
      "source": [
        "## Uploading the file\n",
        "from google.colab import files\n",
        "uploaded = files.upload()"
      ],
      "metadata": {
        "colab": {
          "base_uri": "https://localhost:8080/",
          "height": 74
        },
        "id": "K56Mp0xZDl2J",
        "outputId": "0fd1b110-5582-442e-c30b-e0e3bc7bc857"
      },
      "execution_count": 3,
      "outputs": [
        {
          "output_type": "display_data",
          "data": {
            "text/plain": [
              "<IPython.core.display.HTML object>"
            ],
            "text/html": [
              "\n",
              "     <input type=\"file\" id=\"files-b349a7b7-33c7-43b4-be36-d082ffb22f07\" name=\"files[]\" multiple disabled\n",
              "        style=\"border:none\" />\n",
              "     <output id=\"result-b349a7b7-33c7-43b4-be36-d082ffb22f07\">\n",
              "      Upload widget is only available when the cell has been executed in the\n",
              "      current browser session. Please rerun this cell to enable.\n",
              "      </output>\n",
              "      <script>// Copyright 2017 Google LLC\n",
              "//\n",
              "// Licensed under the Apache License, Version 2.0 (the \"License\");\n",
              "// you may not use this file except in compliance with the License.\n",
              "// You may obtain a copy of the License at\n",
              "//\n",
              "//      http://www.apache.org/licenses/LICENSE-2.0\n",
              "//\n",
              "// Unless required by applicable law or agreed to in writing, software\n",
              "// distributed under the License is distributed on an \"AS IS\" BASIS,\n",
              "// WITHOUT WARRANTIES OR CONDITIONS OF ANY KIND, either express or implied.\n",
              "// See the License for the specific language governing permissions and\n",
              "// limitations under the License.\n",
              "\n",
              "/**\n",
              " * @fileoverview Helpers for google.colab Python module.\n",
              " */\n",
              "(function(scope) {\n",
              "function span(text, styleAttributes = {}) {\n",
              "  const element = document.createElement('span');\n",
              "  element.textContent = text;\n",
              "  for (const key of Object.keys(styleAttributes)) {\n",
              "    element.style[key] = styleAttributes[key];\n",
              "  }\n",
              "  return element;\n",
              "}\n",
              "\n",
              "// Max number of bytes which will be uploaded at a time.\n",
              "const MAX_PAYLOAD_SIZE = 100 * 1024;\n",
              "\n",
              "function _uploadFiles(inputId, outputId) {\n",
              "  const steps = uploadFilesStep(inputId, outputId);\n",
              "  const outputElement = document.getElementById(outputId);\n",
              "  // Cache steps on the outputElement to make it available for the next call\n",
              "  // to uploadFilesContinue from Python.\n",
              "  outputElement.steps = steps;\n",
              "\n",
              "  return _uploadFilesContinue(outputId);\n",
              "}\n",
              "\n",
              "// This is roughly an async generator (not supported in the browser yet),\n",
              "// where there are multiple asynchronous steps and the Python side is going\n",
              "// to poll for completion of each step.\n",
              "// This uses a Promise to block the python side on completion of each step,\n",
              "// then passes the result of the previous step as the input to the next step.\n",
              "function _uploadFilesContinue(outputId) {\n",
              "  const outputElement = document.getElementById(outputId);\n",
              "  const steps = outputElement.steps;\n",
              "\n",
              "  const next = steps.next(outputElement.lastPromiseValue);\n",
              "  return Promise.resolve(next.value.promise).then((value) => {\n",
              "    // Cache the last promise value to make it available to the next\n",
              "    // step of the generator.\n",
              "    outputElement.lastPromiseValue = value;\n",
              "    return next.value.response;\n",
              "  });\n",
              "}\n",
              "\n",
              "/**\n",
              " * Generator function which is called between each async step of the upload\n",
              " * process.\n",
              " * @param {string} inputId Element ID of the input file picker element.\n",
              " * @param {string} outputId Element ID of the output display.\n",
              " * @return {!Iterable<!Object>} Iterable of next steps.\n",
              " */\n",
              "function* uploadFilesStep(inputId, outputId) {\n",
              "  const inputElement = document.getElementById(inputId);\n",
              "  inputElement.disabled = false;\n",
              "\n",
              "  const outputElement = document.getElementById(outputId);\n",
              "  outputElement.innerHTML = '';\n",
              "\n",
              "  const pickedPromise = new Promise((resolve) => {\n",
              "    inputElement.addEventListener('change', (e) => {\n",
              "      resolve(e.target.files);\n",
              "    });\n",
              "  });\n",
              "\n",
              "  const cancel = document.createElement('button');\n",
              "  inputElement.parentElement.appendChild(cancel);\n",
              "  cancel.textContent = 'Cancel upload';\n",
              "  const cancelPromise = new Promise((resolve) => {\n",
              "    cancel.onclick = () => {\n",
              "      resolve(null);\n",
              "    };\n",
              "  });\n",
              "\n",
              "  // Wait for the user to pick the files.\n",
              "  const files = yield {\n",
              "    promise: Promise.race([pickedPromise, cancelPromise]),\n",
              "    response: {\n",
              "      action: 'starting',\n",
              "    }\n",
              "  };\n",
              "\n",
              "  cancel.remove();\n",
              "\n",
              "  // Disable the input element since further picks are not allowed.\n",
              "  inputElement.disabled = true;\n",
              "\n",
              "  if (!files) {\n",
              "    return {\n",
              "      response: {\n",
              "        action: 'complete',\n",
              "      }\n",
              "    };\n",
              "  }\n",
              "\n",
              "  for (const file of files) {\n",
              "    const li = document.createElement('li');\n",
              "    li.append(span(file.name, {fontWeight: 'bold'}));\n",
              "    li.append(span(\n",
              "        `(${file.type || 'n/a'}) - ${file.size} bytes, ` +\n",
              "        `last modified: ${\n",
              "            file.lastModifiedDate ? file.lastModifiedDate.toLocaleDateString() :\n",
              "                                    'n/a'} - `));\n",
              "    const percent = span('0% done');\n",
              "    li.appendChild(percent);\n",
              "\n",
              "    outputElement.appendChild(li);\n",
              "\n",
              "    const fileDataPromise = new Promise((resolve) => {\n",
              "      const reader = new FileReader();\n",
              "      reader.onload = (e) => {\n",
              "        resolve(e.target.result);\n",
              "      };\n",
              "      reader.readAsArrayBuffer(file);\n",
              "    });\n",
              "    // Wait for the data to be ready.\n",
              "    let fileData = yield {\n",
              "      promise: fileDataPromise,\n",
              "      response: {\n",
              "        action: 'continue',\n",
              "      }\n",
              "    };\n",
              "\n",
              "    // Use a chunked sending to avoid message size limits. See b/62115660.\n",
              "    let position = 0;\n",
              "    do {\n",
              "      const length = Math.min(fileData.byteLength - position, MAX_PAYLOAD_SIZE);\n",
              "      const chunk = new Uint8Array(fileData, position, length);\n",
              "      position += length;\n",
              "\n",
              "      const base64 = btoa(String.fromCharCode.apply(null, chunk));\n",
              "      yield {\n",
              "        response: {\n",
              "          action: 'append',\n",
              "          file: file.name,\n",
              "          data: base64,\n",
              "        },\n",
              "      };\n",
              "\n",
              "      let percentDone = fileData.byteLength === 0 ?\n",
              "          100 :\n",
              "          Math.round((position / fileData.byteLength) * 100);\n",
              "      percent.textContent = `${percentDone}% done`;\n",
              "\n",
              "    } while (position < fileData.byteLength);\n",
              "  }\n",
              "\n",
              "  // All done.\n",
              "  yield {\n",
              "    response: {\n",
              "      action: 'complete',\n",
              "    }\n",
              "  };\n",
              "}\n",
              "\n",
              "scope.google = scope.google || {};\n",
              "scope.google.colab = scope.google.colab || {};\n",
              "scope.google.colab._files = {\n",
              "  _uploadFiles,\n",
              "  _uploadFilesContinue,\n",
              "};\n",
              "})(self);\n",
              "</script> "
            ]
          },
          "metadata": {}
        },
        {
          "output_type": "stream",
          "name": "stdout",
          "text": [
            "Saving tweets_dataset.csv to tweets_dataset.csv\n"
          ]
        }
      ]
    },
    {
      "cell_type": "code",
      "source": [
        "## Reading the file into a dataframe\n",
        "import io\n",
        "df = pd.read_csv(io.BytesIO(uploaded['tweets_dataset.csv']))\n"
      ],
      "metadata": {
        "id": "_p-94mjQDxC6"
      },
      "execution_count": 4,
      "outputs": []
    },
    {
      "cell_type": "code",
      "execution_count": 5,
      "metadata": {
        "id": "a77Oo2PdCR9r",
        "outputId": "67fb85a3-cc48-41da-afd8-c35cd9926f3d",
        "colab": {
          "base_uri": "https://localhost:8080/"
        }
      },
      "outputs": [
        {
          "output_type": "stream",
          "name": "stdout",
          "text": [
            "<class 'pandas.core.frame.DataFrame'>\n",
            "RangeIndex: 9093 entries, 0 to 9092\n",
            "Data columns (total 3 columns):\n",
            " #   Column                                              Non-Null Count  Dtype \n",
            "---  ------                                              --------------  ----- \n",
            " 0   tweet_text                                          9092 non-null   object\n",
            " 1   emotion_in_tweet_is_directed_at                     3291 non-null   object\n",
            " 2   is_there_an_emotion_directed_at_a_brand_or_product  9093 non-null   object\n",
            "dtypes: object(3)\n",
            "memory usage: 213.2+ KB\n"
          ]
        }
      ],
      "source": [
        "df.info()"
      ]
    },
    {
      "cell_type": "code",
      "execution_count": 6,
      "metadata": {
        "id": "T0av212lCR9r",
        "outputId": "b90c3ea6-cabf-4b67-8f36-bbc5f60f3f65",
        "colab": {
          "base_uri": "https://localhost:8080/"
        }
      },
      "outputs": [
        {
          "output_type": "stream",
          "name": "stdout",
          "text": [
            "The column name is emotion_in_tweet_is_directed_at\n",
            "['iPhone' 'iPad or iPhone App' 'iPad' 'Google' nan 'Android' 'Apple'\n",
            " 'Android App' 'Other Google product or service'\n",
            " 'Other Apple product or service']\n",
            "iPad                               946\n",
            "Apple                              661\n",
            "iPad or iPhone App                 470\n",
            "Google                             430\n",
            "iPhone                             297\n",
            "Other Google product or service    293\n",
            "Android App                         81\n",
            "Android                             78\n",
            "Other Apple product or service      35\n",
            "Name: emotion_in_tweet_is_directed_at, dtype: int64\n",
            "The column name is is_there_an_emotion_directed_at_a_brand_or_product\n",
            "['Negative emotion' 'Positive emotion'\n",
            " 'No emotion toward brand or product' \"I can't tell\"]\n",
            "No emotion toward brand or product    5389\n",
            "Positive emotion                      2978\n",
            "Negative emotion                       570\n",
            "I can't tell                           156\n",
            "Name: is_there_an_emotion_directed_at_a_brand_or_product, dtype: int64\n"
          ]
        }
      ],
      "source": [
        "list = ['emotion_in_tweet_is_directed_at','is_there_an_emotion_directed_at_a_brand_or_product']\n",
        "\n",
        "## Helping to identify what are all the categories that are listed inside each of the columns that isn't the tweet text itself\n",
        "for item in list:\n",
        "    print(f'The column name is {item}')\n",
        "    print(df[item].unique())\n",
        "    print(df[item].value_counts())"
      ]
    },
    {
      "cell_type": "code",
      "execution_count": 7,
      "metadata": {
        "id": "gGZx0va_CR9s",
        "outputId": "9a3721b4-12be-47ea-ec68-acdfead15bf9",
        "colab": {
          "base_uri": "https://localhost:8080/"
        }
      },
      "outputs": [
        {
          "output_type": "stream",
          "name": "stdout",
          "text": [
            "<class 'pandas.core.frame.DataFrame'>\n",
            "Int64Index: 8937 entries, 0 to 9092\n",
            "Data columns (total 3 columns):\n",
            " #   Column                                              Non-Null Count  Dtype \n",
            "---  ------                                              --------------  ----- \n",
            " 0   tweet_text                                          8936 non-null   object\n",
            " 1   emotion_in_tweet_is_directed_at                     3282 non-null   object\n",
            " 2   is_there_an_emotion_directed_at_a_brand_or_product  8937 non-null   object\n",
            "dtypes: object(3)\n",
            "memory usage: 279.3+ KB\n"
          ]
        }
      ],
      "source": [
        "## Removing the records which have an unknown sentiment option - Keeping the options to just Positive, Negative & Neutral\n",
        "df = df[~df['is_there_an_emotion_directed_at_a_brand_or_product'].isin(['I can\\'t tell'])]\n",
        "\n",
        "df.info()"
      ]
    },
    {
      "cell_type": "markdown",
      "source": [
        "We can see above that the second column has a large amount of missing data, so we ignore this column and focus only on the other two columns as shown below."
      ],
      "metadata": {
        "id": "pVzmpoHS0eTN"
      }
    },
    {
      "cell_type": "code",
      "execution_count": 8,
      "metadata": {
        "id": "thnuxpQuCR9t",
        "outputId": "64642484-4f91-4d86-97c3-5dbe433204b6",
        "colab": {
          "base_uri": "https://localhost:8080/",
          "height": 206
        }
      },
      "outputs": [
        {
          "output_type": "execute_result",
          "data": {
            "text/plain": [
              "                                          tweet_text sentiment_classification\n",
              "0  .@wesley83 I have a 3G iPhone. After 3 hrs twe...         Negative emotion\n",
              "1  @jessedee Know about @fludapp ? Awesome iPad/i...         Positive emotion\n",
              "2  @swonderlin Can not wait for #iPad 2 also. The...         Positive emotion\n",
              "3  @sxsw I hope this year's festival isn't as cra...         Negative emotion\n",
              "4  @sxtxstate great stuff on Fri #SXSW: Marissa M...         Positive emotion"
            ],
            "text/html": [
              "\n",
              "  <div id=\"df-daf76b6c-ffe8-4e6b-b7fb-20387f8ed8e8\">\n",
              "    <div class=\"colab-df-container\">\n",
              "      <div>\n",
              "<style scoped>\n",
              "    .dataframe tbody tr th:only-of-type {\n",
              "        vertical-align: middle;\n",
              "    }\n",
              "\n",
              "    .dataframe tbody tr th {\n",
              "        vertical-align: top;\n",
              "    }\n",
              "\n",
              "    .dataframe thead th {\n",
              "        text-align: right;\n",
              "    }\n",
              "</style>\n",
              "<table border=\"1\" class=\"dataframe\">\n",
              "  <thead>\n",
              "    <tr style=\"text-align: right;\">\n",
              "      <th></th>\n",
              "      <th>tweet_text</th>\n",
              "      <th>sentiment_classification</th>\n",
              "    </tr>\n",
              "  </thead>\n",
              "  <tbody>\n",
              "    <tr>\n",
              "      <th>0</th>\n",
              "      <td>.@wesley83 I have a 3G iPhone. After 3 hrs twe...</td>\n",
              "      <td>Negative emotion</td>\n",
              "    </tr>\n",
              "    <tr>\n",
              "      <th>1</th>\n",
              "      <td>@jessedee Know about @fludapp ? Awesome iPad/i...</td>\n",
              "      <td>Positive emotion</td>\n",
              "    </tr>\n",
              "    <tr>\n",
              "      <th>2</th>\n",
              "      <td>@swonderlin Can not wait for #iPad 2 also. The...</td>\n",
              "      <td>Positive emotion</td>\n",
              "    </tr>\n",
              "    <tr>\n",
              "      <th>3</th>\n",
              "      <td>@sxsw I hope this year's festival isn't as cra...</td>\n",
              "      <td>Negative emotion</td>\n",
              "    </tr>\n",
              "    <tr>\n",
              "      <th>4</th>\n",
              "      <td>@sxtxstate great stuff on Fri #SXSW: Marissa M...</td>\n",
              "      <td>Positive emotion</td>\n",
              "    </tr>\n",
              "  </tbody>\n",
              "</table>\n",
              "</div>\n",
              "      <button class=\"colab-df-convert\" onclick=\"convertToInteractive('df-daf76b6c-ffe8-4e6b-b7fb-20387f8ed8e8')\"\n",
              "              title=\"Convert this dataframe to an interactive table.\"\n",
              "              style=\"display:none;\">\n",
              "        \n",
              "  <svg xmlns=\"http://www.w3.org/2000/svg\" height=\"24px\"viewBox=\"0 0 24 24\"\n",
              "       width=\"24px\">\n",
              "    <path d=\"M0 0h24v24H0V0z\" fill=\"none\"/>\n",
              "    <path d=\"M18.56 5.44l.94 2.06.94-2.06 2.06-.94-2.06-.94-.94-2.06-.94 2.06-2.06.94zm-11 1L8.5 8.5l.94-2.06 2.06-.94-2.06-.94L8.5 2.5l-.94 2.06-2.06.94zm10 10l.94 2.06.94-2.06 2.06-.94-2.06-.94-.94-2.06-.94 2.06-2.06.94z\"/><path d=\"M17.41 7.96l-1.37-1.37c-.4-.4-.92-.59-1.43-.59-.52 0-1.04.2-1.43.59L10.3 9.45l-7.72 7.72c-.78.78-.78 2.05 0 2.83L4 21.41c.39.39.9.59 1.41.59.51 0 1.02-.2 1.41-.59l7.78-7.78 2.81-2.81c.8-.78.8-2.07 0-2.86zM5.41 20L4 18.59l7.72-7.72 1.47 1.35L5.41 20z\"/>\n",
              "  </svg>\n",
              "      </button>\n",
              "      \n",
              "  <style>\n",
              "    .colab-df-container {\n",
              "      display:flex;\n",
              "      flex-wrap:wrap;\n",
              "      gap: 12px;\n",
              "    }\n",
              "\n",
              "    .colab-df-convert {\n",
              "      background-color: #E8F0FE;\n",
              "      border: none;\n",
              "      border-radius: 50%;\n",
              "      cursor: pointer;\n",
              "      display: none;\n",
              "      fill: #1967D2;\n",
              "      height: 32px;\n",
              "      padding: 0 0 0 0;\n",
              "      width: 32px;\n",
              "    }\n",
              "\n",
              "    .colab-df-convert:hover {\n",
              "      background-color: #E2EBFA;\n",
              "      box-shadow: 0px 1px 2px rgba(60, 64, 67, 0.3), 0px 1px 3px 1px rgba(60, 64, 67, 0.15);\n",
              "      fill: #174EA6;\n",
              "    }\n",
              "\n",
              "    [theme=dark] .colab-df-convert {\n",
              "      background-color: #3B4455;\n",
              "      fill: #D2E3FC;\n",
              "    }\n",
              "\n",
              "    [theme=dark] .colab-df-convert:hover {\n",
              "      background-color: #434B5C;\n",
              "      box-shadow: 0px 1px 3px 1px rgba(0, 0, 0, 0.15);\n",
              "      filter: drop-shadow(0px 1px 2px rgba(0, 0, 0, 0.3));\n",
              "      fill: #FFFFFF;\n",
              "    }\n",
              "  </style>\n",
              "\n",
              "      <script>\n",
              "        const buttonEl =\n",
              "          document.querySelector('#df-daf76b6c-ffe8-4e6b-b7fb-20387f8ed8e8 button.colab-df-convert');\n",
              "        buttonEl.style.display =\n",
              "          google.colab.kernel.accessAllowed ? 'block' : 'none';\n",
              "\n",
              "        async function convertToInteractive(key) {\n",
              "          const element = document.querySelector('#df-daf76b6c-ffe8-4e6b-b7fb-20387f8ed8e8');\n",
              "          const dataTable =\n",
              "            await google.colab.kernel.invokeFunction('convertToInteractive',\n",
              "                                                     [key], {});\n",
              "          if (!dataTable) return;\n",
              "\n",
              "          const docLinkHtml = 'Like what you see? Visit the ' +\n",
              "            '<a target=\"_blank\" href=https://colab.research.google.com/notebooks/data_table.ipynb>data table notebook</a>'\n",
              "            + ' to learn more about interactive tables.';\n",
              "          element.innerHTML = '';\n",
              "          dataTable['output_type'] = 'display_data';\n",
              "          await google.colab.output.renderOutput(dataTable, element);\n",
              "          const docLink = document.createElement('div');\n",
              "          docLink.innerHTML = docLinkHtml;\n",
              "          element.appendChild(docLink);\n",
              "        }\n",
              "      </script>\n",
              "    </div>\n",
              "  </div>\n",
              "  "
            ]
          },
          "metadata": {},
          "execution_count": 8
        }
      ],
      "source": [
        "tweet_df = df[['tweet_text', 'is_there_an_emotion_directed_at_a_brand_or_product']].copy()\n",
        "\n",
        "## Renaming columns to make easier to read\n",
        "tweet_df.columns = ['tweet_text', 'sentiment_classification']\n",
        "\n",
        "tweet_df.head()"
      ]
    },
    {
      "cell_type": "code",
      "execution_count": 9,
      "metadata": {
        "id": "Sp75e2WgCR9u"
      },
      "outputs": [],
      "source": [
        "## Helping to encode the labels and store them in a dictionary for future lookup process\n",
        "tweet_df['category_id'] = tweet_df['sentiment_classification'].factorize()[0]\n",
        "category_id_df = tweet_df[['sentiment_classification', 'category_id']].drop_duplicates()\n"
      ]
    },
    {
      "cell_type": "code",
      "execution_count": 10,
      "metadata": {
        "id": "ceboD9CrCR9v",
        "outputId": "ac6631d2-7900-4535-c484-34c939ffbb60",
        "colab": {
          "base_uri": "https://localhost:8080/",
          "height": 206
        }
      },
      "outputs": [
        {
          "output_type": "execute_result",
          "data": {
            "text/plain": [
              "                                          tweet_text sentiment_classification  \\\n",
              "0  .@wesley83 I have a 3G iPhone. After 3 hrs twe...         Negative emotion   \n",
              "1  @jessedee Know about @fludapp ? Awesome iPad/i...         Positive emotion   \n",
              "2  @swonderlin Can not wait for #iPad 2 also. The...         Positive emotion   \n",
              "3  @sxsw I hope this year's festival isn't as cra...         Negative emotion   \n",
              "4  @sxtxstate great stuff on Fri #SXSW: Marissa M...         Positive emotion   \n",
              "\n",
              "   category_id  \n",
              "0            0  \n",
              "1            1  \n",
              "2            1  \n",
              "3            0  \n",
              "4            1  "
            ],
            "text/html": [
              "\n",
              "  <div id=\"df-aeb13c64-a369-4fc7-893a-db5ed583c419\">\n",
              "    <div class=\"colab-df-container\">\n",
              "      <div>\n",
              "<style scoped>\n",
              "    .dataframe tbody tr th:only-of-type {\n",
              "        vertical-align: middle;\n",
              "    }\n",
              "\n",
              "    .dataframe tbody tr th {\n",
              "        vertical-align: top;\n",
              "    }\n",
              "\n",
              "    .dataframe thead th {\n",
              "        text-align: right;\n",
              "    }\n",
              "</style>\n",
              "<table border=\"1\" class=\"dataframe\">\n",
              "  <thead>\n",
              "    <tr style=\"text-align: right;\">\n",
              "      <th></th>\n",
              "      <th>tweet_text</th>\n",
              "      <th>sentiment_classification</th>\n",
              "      <th>category_id</th>\n",
              "    </tr>\n",
              "  </thead>\n",
              "  <tbody>\n",
              "    <tr>\n",
              "      <th>0</th>\n",
              "      <td>.@wesley83 I have a 3G iPhone. After 3 hrs twe...</td>\n",
              "      <td>Negative emotion</td>\n",
              "      <td>0</td>\n",
              "    </tr>\n",
              "    <tr>\n",
              "      <th>1</th>\n",
              "      <td>@jessedee Know about @fludapp ? Awesome iPad/i...</td>\n",
              "      <td>Positive emotion</td>\n",
              "      <td>1</td>\n",
              "    </tr>\n",
              "    <tr>\n",
              "      <th>2</th>\n",
              "      <td>@swonderlin Can not wait for #iPad 2 also. The...</td>\n",
              "      <td>Positive emotion</td>\n",
              "      <td>1</td>\n",
              "    </tr>\n",
              "    <tr>\n",
              "      <th>3</th>\n",
              "      <td>@sxsw I hope this year's festival isn't as cra...</td>\n",
              "      <td>Negative emotion</td>\n",
              "      <td>0</td>\n",
              "    </tr>\n",
              "    <tr>\n",
              "      <th>4</th>\n",
              "      <td>@sxtxstate great stuff on Fri #SXSW: Marissa M...</td>\n",
              "      <td>Positive emotion</td>\n",
              "      <td>1</td>\n",
              "    </tr>\n",
              "  </tbody>\n",
              "</table>\n",
              "</div>\n",
              "      <button class=\"colab-df-convert\" onclick=\"convertToInteractive('df-aeb13c64-a369-4fc7-893a-db5ed583c419')\"\n",
              "              title=\"Convert this dataframe to an interactive table.\"\n",
              "              style=\"display:none;\">\n",
              "        \n",
              "  <svg xmlns=\"http://www.w3.org/2000/svg\" height=\"24px\"viewBox=\"0 0 24 24\"\n",
              "       width=\"24px\">\n",
              "    <path d=\"M0 0h24v24H0V0z\" fill=\"none\"/>\n",
              "    <path d=\"M18.56 5.44l.94 2.06.94-2.06 2.06-.94-2.06-.94-.94-2.06-.94 2.06-2.06.94zm-11 1L8.5 8.5l.94-2.06 2.06-.94-2.06-.94L8.5 2.5l-.94 2.06-2.06.94zm10 10l.94 2.06.94-2.06 2.06-.94-2.06-.94-.94-2.06-.94 2.06-2.06.94z\"/><path d=\"M17.41 7.96l-1.37-1.37c-.4-.4-.92-.59-1.43-.59-.52 0-1.04.2-1.43.59L10.3 9.45l-7.72 7.72c-.78.78-.78 2.05 0 2.83L4 21.41c.39.39.9.59 1.41.59.51 0 1.02-.2 1.41-.59l7.78-7.78 2.81-2.81c.8-.78.8-2.07 0-2.86zM5.41 20L4 18.59l7.72-7.72 1.47 1.35L5.41 20z\"/>\n",
              "  </svg>\n",
              "      </button>\n",
              "      \n",
              "  <style>\n",
              "    .colab-df-container {\n",
              "      display:flex;\n",
              "      flex-wrap:wrap;\n",
              "      gap: 12px;\n",
              "    }\n",
              "\n",
              "    .colab-df-convert {\n",
              "      background-color: #E8F0FE;\n",
              "      border: none;\n",
              "      border-radius: 50%;\n",
              "      cursor: pointer;\n",
              "      display: none;\n",
              "      fill: #1967D2;\n",
              "      height: 32px;\n",
              "      padding: 0 0 0 0;\n",
              "      width: 32px;\n",
              "    }\n",
              "\n",
              "    .colab-df-convert:hover {\n",
              "      background-color: #E2EBFA;\n",
              "      box-shadow: 0px 1px 2px rgba(60, 64, 67, 0.3), 0px 1px 3px 1px rgba(60, 64, 67, 0.15);\n",
              "      fill: #174EA6;\n",
              "    }\n",
              "\n",
              "    [theme=dark] .colab-df-convert {\n",
              "      background-color: #3B4455;\n",
              "      fill: #D2E3FC;\n",
              "    }\n",
              "\n",
              "    [theme=dark] .colab-df-convert:hover {\n",
              "      background-color: #434B5C;\n",
              "      box-shadow: 0px 1px 3px 1px rgba(0, 0, 0, 0.15);\n",
              "      filter: drop-shadow(0px 1px 2px rgba(0, 0, 0, 0.3));\n",
              "      fill: #FFFFFF;\n",
              "    }\n",
              "  </style>\n",
              "\n",
              "      <script>\n",
              "        const buttonEl =\n",
              "          document.querySelector('#df-aeb13c64-a369-4fc7-893a-db5ed583c419 button.colab-df-convert');\n",
              "        buttonEl.style.display =\n",
              "          google.colab.kernel.accessAllowed ? 'block' : 'none';\n",
              "\n",
              "        async function convertToInteractive(key) {\n",
              "          const element = document.querySelector('#df-aeb13c64-a369-4fc7-893a-db5ed583c419');\n",
              "          const dataTable =\n",
              "            await google.colab.kernel.invokeFunction('convertToInteractive',\n",
              "                                                     [key], {});\n",
              "          if (!dataTable) return;\n",
              "\n",
              "          const docLinkHtml = 'Like what you see? Visit the ' +\n",
              "            '<a target=\"_blank\" href=https://colab.research.google.com/notebooks/data_table.ipynb>data table notebook</a>'\n",
              "            + ' to learn more about interactive tables.';\n",
              "          element.innerHTML = '';\n",
              "          dataTable['output_type'] = 'display_data';\n",
              "          await google.colab.output.renderOutput(dataTable, element);\n",
              "          const docLink = document.createElement('div');\n",
              "          docLink.innerHTML = docLinkHtml;\n",
              "          element.appendChild(docLink);\n",
              "        }\n",
              "      </script>\n",
              "    </div>\n",
              "  </div>\n",
              "  "
            ]
          },
          "metadata": {},
          "execution_count": 10
        }
      ],
      "source": [
        "# Dictionaries for future use\n",
        "category_to_id = dict(category_id_df.values)\n",
        "id_to_category = dict(category_id_df[['category_id', 'sentiment_classification']].values)\n",
        "\n",
        "tweet_df.head()\n"
      ]
    },
    {
      "cell_type": "markdown",
      "source": [
        "We've created a litte dictionary that maps the encoded value to the name of the class so we can better reference our performance later on once we are in the modelling/evaluation phases."
      ],
      "metadata": {
        "id": "hF92sGOO0yLH"
      }
    },
    {
      "cell_type": "code",
      "execution_count": 11,
      "metadata": {
        "id": "IihAwiM0CR9z",
        "outputId": "d0c06cb8-431f-4673-d05e-bf8c2cc54725",
        "colab": {
          "base_uri": "https://localhost:8080/"
        }
      },
      "outputs": [
        {
          "output_type": "execute_result",
          "data": {
            "text/plain": [
              "{0: 'Negative emotion',\n",
              " 1: 'Positive emotion',\n",
              " 2: 'No emotion toward brand or product'}"
            ]
          },
          "metadata": {},
          "execution_count": 11
        }
      ],
      "source": [
        "id_to_category"
      ]
    },
    {
      "cell_type": "code",
      "execution_count": 12,
      "metadata": {
        "id": "jZ5liAZ7CR90",
        "outputId": "6577b455-216a-48fe-f435-b3cd962aa890",
        "colab": {
          "base_uri": "https://localhost:8080/",
          "height": 424
        }
      },
      "outputs": [
        {
          "output_type": "execute_result",
          "data": {
            "text/plain": [
              "                                             tweet_text  \\\n",
              "0     .@wesley83 I have a 3G iPhone. After 3 hrs twe...   \n",
              "1     @jessedee Know about @fludapp ? Awesome iPad/i...   \n",
              "2     @swonderlin Can not wait for #iPad 2 also. The...   \n",
              "3     @sxsw I hope this year's festival isn't as cra...   \n",
              "4     @sxtxstate great stuff on Fri #SXSW: Marissa M...   \n",
              "...                                                 ...   \n",
              "9088                      Ipad everywhere. #SXSW {link}   \n",
              "9089  Wave, buzz... RT @mention We interrupt your re...   \n",
              "9090  Google's Zeiger, a physician never reported po...   \n",
              "9091  Some Verizon iPhone customers complained their...   \n",
              "9092  �ϡ�����_��ʋ�΋�ҋ�������⋁_��������_���RT @mentio...   \n",
              "\n",
              "                sentiment_classification  category_id  \n",
              "0                       Negative emotion            0  \n",
              "1                       Positive emotion            1  \n",
              "2                       Positive emotion            1  \n",
              "3                       Negative emotion            0  \n",
              "4                       Positive emotion            1  \n",
              "...                                  ...          ...  \n",
              "9088                    Positive emotion            1  \n",
              "9089  No emotion toward brand or product            2  \n",
              "9090  No emotion toward brand or product            2  \n",
              "9091  No emotion toward brand or product            2  \n",
              "9092  No emotion toward brand or product            2  \n",
              "\n",
              "[8936 rows x 3 columns]"
            ],
            "text/html": [
              "\n",
              "  <div id=\"df-dab5da3d-81e3-429d-8faf-4e71360aa1c9\">\n",
              "    <div class=\"colab-df-container\">\n",
              "      <div>\n",
              "<style scoped>\n",
              "    .dataframe tbody tr th:only-of-type {\n",
              "        vertical-align: middle;\n",
              "    }\n",
              "\n",
              "    .dataframe tbody tr th {\n",
              "        vertical-align: top;\n",
              "    }\n",
              "\n",
              "    .dataframe thead th {\n",
              "        text-align: right;\n",
              "    }\n",
              "</style>\n",
              "<table border=\"1\" class=\"dataframe\">\n",
              "  <thead>\n",
              "    <tr style=\"text-align: right;\">\n",
              "      <th></th>\n",
              "      <th>tweet_text</th>\n",
              "      <th>sentiment_classification</th>\n",
              "      <th>category_id</th>\n",
              "    </tr>\n",
              "  </thead>\n",
              "  <tbody>\n",
              "    <tr>\n",
              "      <th>0</th>\n",
              "      <td>.@wesley83 I have a 3G iPhone. After 3 hrs twe...</td>\n",
              "      <td>Negative emotion</td>\n",
              "      <td>0</td>\n",
              "    </tr>\n",
              "    <tr>\n",
              "      <th>1</th>\n",
              "      <td>@jessedee Know about @fludapp ? Awesome iPad/i...</td>\n",
              "      <td>Positive emotion</td>\n",
              "      <td>1</td>\n",
              "    </tr>\n",
              "    <tr>\n",
              "      <th>2</th>\n",
              "      <td>@swonderlin Can not wait for #iPad 2 also. The...</td>\n",
              "      <td>Positive emotion</td>\n",
              "      <td>1</td>\n",
              "    </tr>\n",
              "    <tr>\n",
              "      <th>3</th>\n",
              "      <td>@sxsw I hope this year's festival isn't as cra...</td>\n",
              "      <td>Negative emotion</td>\n",
              "      <td>0</td>\n",
              "    </tr>\n",
              "    <tr>\n",
              "      <th>4</th>\n",
              "      <td>@sxtxstate great stuff on Fri #SXSW: Marissa M...</td>\n",
              "      <td>Positive emotion</td>\n",
              "      <td>1</td>\n",
              "    </tr>\n",
              "    <tr>\n",
              "      <th>...</th>\n",
              "      <td>...</td>\n",
              "      <td>...</td>\n",
              "      <td>...</td>\n",
              "    </tr>\n",
              "    <tr>\n",
              "      <th>9088</th>\n",
              "      <td>Ipad everywhere. #SXSW {link}</td>\n",
              "      <td>Positive emotion</td>\n",
              "      <td>1</td>\n",
              "    </tr>\n",
              "    <tr>\n",
              "      <th>9089</th>\n",
              "      <td>Wave, buzz... RT @mention We interrupt your re...</td>\n",
              "      <td>No emotion toward brand or product</td>\n",
              "      <td>2</td>\n",
              "    </tr>\n",
              "    <tr>\n",
              "      <th>9090</th>\n",
              "      <td>Google's Zeiger, a physician never reported po...</td>\n",
              "      <td>No emotion toward brand or product</td>\n",
              "      <td>2</td>\n",
              "    </tr>\n",
              "    <tr>\n",
              "      <th>9091</th>\n",
              "      <td>Some Verizon iPhone customers complained their...</td>\n",
              "      <td>No emotion toward brand or product</td>\n",
              "      <td>2</td>\n",
              "    </tr>\n",
              "    <tr>\n",
              "      <th>9092</th>\n",
              "      <td>�ϡ�����_��ʋ�΋�ҋ�������⋁_��������_���RT @mentio...</td>\n",
              "      <td>No emotion toward brand or product</td>\n",
              "      <td>2</td>\n",
              "    </tr>\n",
              "  </tbody>\n",
              "</table>\n",
              "<p>8936 rows × 3 columns</p>\n",
              "</div>\n",
              "      <button class=\"colab-df-convert\" onclick=\"convertToInteractive('df-dab5da3d-81e3-429d-8faf-4e71360aa1c9')\"\n",
              "              title=\"Convert this dataframe to an interactive table.\"\n",
              "              style=\"display:none;\">\n",
              "        \n",
              "  <svg xmlns=\"http://www.w3.org/2000/svg\" height=\"24px\"viewBox=\"0 0 24 24\"\n",
              "       width=\"24px\">\n",
              "    <path d=\"M0 0h24v24H0V0z\" fill=\"none\"/>\n",
              "    <path d=\"M18.56 5.44l.94 2.06.94-2.06 2.06-.94-2.06-.94-.94-2.06-.94 2.06-2.06.94zm-11 1L8.5 8.5l.94-2.06 2.06-.94-2.06-.94L8.5 2.5l-.94 2.06-2.06.94zm10 10l.94 2.06.94-2.06 2.06-.94-2.06-.94-.94-2.06-.94 2.06-2.06.94z\"/><path d=\"M17.41 7.96l-1.37-1.37c-.4-.4-.92-.59-1.43-.59-.52 0-1.04.2-1.43.59L10.3 9.45l-7.72 7.72c-.78.78-.78 2.05 0 2.83L4 21.41c.39.39.9.59 1.41.59.51 0 1.02-.2 1.41-.59l7.78-7.78 2.81-2.81c.8-.78.8-2.07 0-2.86zM5.41 20L4 18.59l7.72-7.72 1.47 1.35L5.41 20z\"/>\n",
              "  </svg>\n",
              "      </button>\n",
              "      \n",
              "  <style>\n",
              "    .colab-df-container {\n",
              "      display:flex;\n",
              "      flex-wrap:wrap;\n",
              "      gap: 12px;\n",
              "    }\n",
              "\n",
              "    .colab-df-convert {\n",
              "      background-color: #E8F0FE;\n",
              "      border: none;\n",
              "      border-radius: 50%;\n",
              "      cursor: pointer;\n",
              "      display: none;\n",
              "      fill: #1967D2;\n",
              "      height: 32px;\n",
              "      padding: 0 0 0 0;\n",
              "      width: 32px;\n",
              "    }\n",
              "\n",
              "    .colab-df-convert:hover {\n",
              "      background-color: #E2EBFA;\n",
              "      box-shadow: 0px 1px 2px rgba(60, 64, 67, 0.3), 0px 1px 3px 1px rgba(60, 64, 67, 0.15);\n",
              "      fill: #174EA6;\n",
              "    }\n",
              "\n",
              "    [theme=dark] .colab-df-convert {\n",
              "      background-color: #3B4455;\n",
              "      fill: #D2E3FC;\n",
              "    }\n",
              "\n",
              "    [theme=dark] .colab-df-convert:hover {\n",
              "      background-color: #434B5C;\n",
              "      box-shadow: 0px 1px 3px 1px rgba(0, 0, 0, 0.15);\n",
              "      filter: drop-shadow(0px 1px 2px rgba(0, 0, 0, 0.3));\n",
              "      fill: #FFFFFF;\n",
              "    }\n",
              "  </style>\n",
              "\n",
              "      <script>\n",
              "        const buttonEl =\n",
              "          document.querySelector('#df-dab5da3d-81e3-429d-8faf-4e71360aa1c9 button.colab-df-convert');\n",
              "        buttonEl.style.display =\n",
              "          google.colab.kernel.accessAllowed ? 'block' : 'none';\n",
              "\n",
              "        async function convertToInteractive(key) {\n",
              "          const element = document.querySelector('#df-dab5da3d-81e3-429d-8faf-4e71360aa1c9');\n",
              "          const dataTable =\n",
              "            await google.colab.kernel.invokeFunction('convertToInteractive',\n",
              "                                                     [key], {});\n",
              "          if (!dataTable) return;\n",
              "\n",
              "          const docLinkHtml = 'Like what you see? Visit the ' +\n",
              "            '<a target=\"_blank\" href=https://colab.research.google.com/notebooks/data_table.ipynb>data table notebook</a>'\n",
              "            + ' to learn more about interactive tables.';\n",
              "          element.innerHTML = '';\n",
              "          dataTable['output_type'] = 'display_data';\n",
              "          await google.colab.output.renderOutput(dataTable, element);\n",
              "          const docLink = document.createElement('div');\n",
              "          docLink.innerHTML = docLinkHtml;\n",
              "          element.appendChild(docLink);\n",
              "        }\n",
              "      </script>\n",
              "    </div>\n",
              "  </div>\n",
              "  "
            ]
          },
          "metadata": {},
          "execution_count": 12
        }
      ],
      "source": [
        "## dropping all null value columns\n",
        "tweet_df.dropna()"
      ]
    },
    {
      "cell_type": "code",
      "execution_count": 13,
      "metadata": {
        "id": "UPX3dJJZCR90"
      },
      "outputs": [],
      "source": [
        "## Converting the tweet text into str format, otherwise the tokenising of the text doesn't work later on\n",
        "tweet_df['tweet_text'].dropna(inplace=True)\n",
        "tweet_df['tweet_text'] = tweet_df['tweet_text'].astype(str)"
      ]
    },
    {
      "cell_type": "code",
      "execution_count": 14,
      "metadata": {
        "id": "zWZ25vjvCR90",
        "outputId": "c1d1fcc4-e35a-4afb-fc07-adeefb1201e1",
        "colab": {
          "base_uri": "https://localhost:8080/"
        }
      },
      "outputs": [
        {
          "output_type": "stream",
          "name": "stdout",
          "text": [
            "<class 'pandas.core.frame.DataFrame'>\n",
            "Int64Index: 8937 entries, 0 to 9092\n",
            "Data columns (total 3 columns):\n",
            " #   Column                    Non-Null Count  Dtype \n",
            "---  ------                    --------------  ----- \n",
            " 0   tweet_text                8937 non-null   object\n",
            " 1   sentiment_classification  8937 non-null   object\n",
            " 2   category_id               8937 non-null   int64 \n",
            "dtypes: int64(1), object(2)\n",
            "memory usage: 279.3+ KB\n"
          ]
        }
      ],
      "source": [
        "tweet_df.info()"
      ]
    },
    {
      "cell_type": "markdown",
      "metadata": {
        "id": "mekhD1y5CR91"
      },
      "source": [
        "## EDA - Understanding which terms has highest correlation with each category"
      ]
    },
    {
      "cell_type": "code",
      "execution_count": 15,
      "metadata": {
        "id": "oIw6HXFSCR92",
        "outputId": "dc616b11-e899-4091-b491-2ae0c75594cd",
        "colab": {
          "base_uri": "https://localhost:8080/"
        }
      },
      "outputs": [
        {
          "output_type": "stream",
          "name": "stdout",
          "text": [
            "Each of the 8937 tweets is represented by 4603 features (TF-IDF score of unigrams and bigrams)\n"
          ]
        }
      ],
      "source": [
        "tf_idf = TfidfVectorizer(sublinear_tf=True, min_df=5,\n",
        "                        ngram_range=(1, 2), \n",
        "                        stop_words='english')\n",
        "\n",
        "# We transform each tweet into a vector\n",
        "features = tf_idf.fit_transform(tweet_df.tweet_text.values.astype('U')).toarray()\n",
        "\n",
        "\n",
        "labels = tweet_df.category_id\n",
        "\n",
        "print(\"Each of the %d tweets is represented by %d features (TF-IDF score of unigrams and bigrams)\" %(features.shape))\n"
      ]
    },
    {
      "cell_type": "code",
      "execution_count": 16,
      "metadata": {
        "id": "gRJebbb8CR92",
        "outputId": "98364163-d922-41d1-d6ac-3821d889da96",
        "colab": {
          "base_uri": "https://localhost:8080/"
        }
      },
      "outputs": [
        {
          "output_type": "stream",
          "name": "stdout",
          "text": [
            "\n",
            "==> Negative emotion:\n",
            "  * Most Correlated Unigrams are: classiest, fail, headaches, hate, fascist\n",
            "  * Most Correlated Bigrams are: design headaches, news apps, fascist company, ipad news, company america\n",
            "\n",
            "==> No emotion toward brand or product:\n",
            "  * Most Correlated Unigrams are: begins, app, awesome, wins, cool\n",
            "  * Most Correlated Bigrams are: comes cool, quot apple, begins apple, wins sxsw, apple wins\n",
            "\n",
            "==> Positive emotion:\n",
            "  * Most Correlated Unigrams are: comes, begins, awesome, wins, cool\n",
            "  * Most Correlated Bigrams are: comes cool, apple comes, begins apple, wins sxsw, apple wins\n"
          ]
        }
      ],
      "source": [
        "# Finding the five most correlated terms with each of the product categories\n",
        "N = 5\n",
        "for sentiment_classification, category_id in sorted(category_to_id.items()):\n",
        "  features_chi2 = chi2(features, labels == category_id)\n",
        "  indices = np.argsort(features_chi2[0])\n",
        "  feature_names = np.array(tf_idf.get_feature_names_out())[indices]\n",
        "  unigrams = [v for v in feature_names if len(v.split(' ')) == 1]\n",
        "  bigrams = [v for v in feature_names if len(v.split(' ')) == 2]\n",
        "  print(\"\\n==> %s:\" %(sentiment_classification))\n",
        "  print(\"  * Most Correlated Unigrams are: %s\" %(', '.join(unigrams[-N:])))\n",
        "  print(\"  * Most Correlated Bigrams are: %s\" %(', '.join(bigrams[-N:])))\n"
      ]
    },
    {
      "cell_type": "markdown",
      "source": [
        "Above we wanted to explore the dataset prior to the pre-processing stage to see what terms are the most correlated for each class. As we can see, when looking at the bi-grams for positive vs neutral tweets, they remain the same. This is interesting as it might impact overall model performance later on, if it is hard to separate out positive and neutral sentiment tweets."
      ],
      "metadata": {
        "id": "NLg3GQz71a06"
      }
    },
    {
      "cell_type": "markdown",
      "metadata": {
        "id": "yFqpvmXxCR93"
      },
      "source": [
        "## Baseline Model\n",
        "\n",
        "We now move on to evaluating our baseline model performance. As a result, we want to trying several different transformation methods such as Count Vectorizer, Tf-idf Vectorizer and also to see the bi/tri-grams of each tweet.\n",
        "\n",
        "We first split our data into training and testing sets and then using a function, we look at evaluating performance of each transformation method when building a multinomial naive bayes classification model."
      ]
    },
    {
      "cell_type": "code",
      "execution_count": 17,
      "metadata": {
        "id": "b3Ci-qejCR93"
      },
      "outputs": [],
      "source": [
        "X = tweet_df['tweet_text'].astype(str)\n",
        "y = tweet_df['category_id']"
      ]
    },
    {
      "cell_type": "code",
      "execution_count": 18,
      "metadata": {
        "id": "Ego-h-GoCR93"
      },
      "outputs": [],
      "source": [
        "X_train, X_test, y_train, y_test = train_test_split(X, y, test_size =0.2, random_state=42, stratify=y)"
      ]
    },
    {
      "cell_type": "markdown",
      "metadata": {
        "id": "jmsjKmlYCR94"
      },
      "source": [
        "### Tf-Idf and count Vectorisation"
      ]
    },
    {
      "cell_type": "code",
      "execution_count": 19,
      "metadata": {
        "id": "ClgMpRQmCR94"
      },
      "outputs": [],
      "source": [
        "# creating a count \n",
        "count_vect = CountVectorizer(analyzer='word', token_pattern=r'\\w{1,}')\n",
        "count_vect.fit(tweet_df['tweet_text'].values.astype('U'))\n",
        "\n",
        "# transform the training and validation data using count vectorizer object\n",
        "xtrain_count =  count_vect.transform(X_train.values.astype('U'))\n",
        "xtest_count =  count_vect.transform(X_test.values.astype('U'))\n"
      ]
    },
    {
      "cell_type": "code",
      "execution_count": 20,
      "metadata": {
        "id": "1cL8mAlgCR95"
      },
      "outputs": [],
      "source": [
        "# word-level tf-idf\n",
        "tfidf = TfidfVectorizer(analyzer='word', token_pattern=r'\\w{1,}', max_features=4000)\n",
        "tfidf.fit(tweet_df['tweet_text'].values.astype('U'))\n",
        "xtrain_tfidf =  tfidf.transform(X_train.values.astype('U'))\n",
        "xtest_tfidf =  tfidf.transform(X_test.values.astype('U'))\n",
        "\n",
        "# ngram (bi, tri)-level tf-idf\n",
        "tfidf_ngram = TfidfVectorizer(analyzer='word', token_pattern=r'\\w{1,}', ngram_range = (2,3) , max_features=4000)\n",
        "tfidf_ngram.fit(tweet_df['tweet_text'].values.astype('U'))\n",
        "xtrain_tfidf_ngram =  tfidf_ngram.transform(X_train.values.astype('U'))\n",
        "xtest_tfidf_ngram =  tfidf_ngram.transform(X_test.values.astype('U'))"
      ]
    },
    {
      "cell_type": "code",
      "execution_count": 59,
      "metadata": {
        "id": "RHCJj37XCR95"
      },
      "outputs": [],
      "source": [
        "def train_model(classifier, train_df, label, test_df):\n",
        "    \n",
        "    # fit the training dataset on the classifier\n",
        "    classifier.fit(train_df, label)\n",
        "    \n",
        "    # predict the labels on test dataset\n",
        "    predictions = classifier.predict(test_df)\n",
        "    \n",
        "    return metrics.accuracy_score(predictions, y_test), metrics.recall_score(predictions, y_test, average='macro')"
      ]
    },
    {
      "cell_type": "code",
      "execution_count": 63,
      "metadata": {
        "id": "2_uP3G_YCR95",
        "outputId": "6bfa9141-66c8-4bf3-f209-2be88ca30b3e",
        "colab": {
          "base_uri": "https://localhost:8080/"
        }
      },
      "outputs": [
        {
          "output_type": "stream",
          "name": "stdout",
          "text": [
            "NB, Count Vectors:  0.7013422818791947\n",
            "NB, Recall - Count Vectors:  0.6056150937667525\n"
          ]
        }
      ],
      "source": [
        "# Naive Bayes on Count Vectors\n",
        "accuracy1, recall1 = train_model(MultinomialNB(), xtrain_count, y_train, xtest_count)\n",
        "print(\"NB, Count Vectors: \", accuracy1)\n",
        "print(\"NB, Recall - Count Vectors: \", recall1)"
      ]
    },
    {
      "cell_type": "code",
      "execution_count": 64,
      "metadata": {
        "id": "wRBXQF3OCR95",
        "outputId": "fc75e5a5-a25c-4273-ce25-0d7f219bff21",
        "colab": {
          "base_uri": "https://localhost:8080/"
        }
      },
      "outputs": [
        {
          "output_type": "stream",
          "name": "stdout",
          "text": [
            "NB, WordLevel TF-IDF:  0.6817673378076062\n",
            "NB, Recall - WordLevel TF-IDF:  0.7922770640823379\n"
          ]
        }
      ],
      "source": [
        "# Naive Bayes on Word Level TF IDF Vectors\n",
        "accuracy2, recall2 = train_model(MultinomialNB(), xtrain_tfidf, y_train, xtest_tfidf)\n",
        "print(\"NB, WordLevel TF-IDF: \", accuracy2)\n",
        "print(\"NB, Recall - WordLevel TF-IDF: \", recall2)"
      ]
    },
    {
      "cell_type": "code",
      "execution_count": 65,
      "metadata": {
        "id": "G4PFPr29CR96",
        "outputId": "8585306c-2f04-4498-83b0-a19586ee7c7f",
        "colab": {
          "base_uri": "https://localhost:8080/"
        }
      },
      "outputs": [
        {
          "output_type": "stream",
          "name": "stdout",
          "text": [
            "NB, n-gram TF-IDF:  0.6571588366890381\n",
            "NB, Recall - n-gram TF-IDF:  0.5777689037966357\n"
          ]
        }
      ],
      "source": [
        "# Naive Bayes on n-gram Level TF IDF Vectors\n",
        "accuracy3, recall3 = train_model(MultinomialNB(), xtrain_tfidf_ngram, y_train, xtest_tfidf_ngram)\n",
        "print(\"NB, n-gram TF-IDF: \", accuracy3)\n",
        "print(\"NB, Recall - n-gram TF-IDF: \", recall3)"
      ]
    },
    {
      "cell_type": "code",
      "source": [
        "models_performance = []\n",
        "\n",
        "models_performance.append(('Baseline-model',recall1))\n",
        "\n",
        "models_performance"
      ],
      "metadata": {
        "id": "lrJdviHhGTg1",
        "outputId": "86be35be-3a1a-422d-ffae-89292da096c5",
        "colab": {
          "base_uri": "https://localhost:8080/"
        }
      },
      "execution_count": 66,
      "outputs": [
        {
          "output_type": "execute_result",
          "data": {
            "text/plain": [
              "[('Baseline-model', 0.6056150937667525)]"
            ]
          },
          "metadata": {},
          "execution_count": 66
        }
      ]
    },
    {
      "cell_type": "markdown",
      "source": [
        "Looking at all of the models performance above, we can see the model which had the best accuracy score was the Count Vectorizer multi-nomial Naive Bayes model for our baseline performance. We now want to see whether we can further improve that score by better preparing the dataset before passing it into a range of different models."
      ],
      "metadata": {
        "id": "HQID8W-g3Gun"
      }
    },
    {
      "cell_type": "markdown",
      "metadata": {
        "id": "IoMfeeE9CR96"
      },
      "source": [
        "## Text Pre-Processing\n",
        "\n",
        "The first thing we want to do when improving our model performance is look at what additional text pre-processing steps are needs to remove additional noise from the data. After a quick examination of different records offline, the steps below were identified to remove the most noise."
      ]
    },
    {
      "cell_type": "markdown",
      "metadata": {
        "id": "iCZsHPfeCR97"
      },
      "source": [
        "In order to improve performance we want to complete the following steps to help reduce/remove the noise from the messy text data. These steps are:\n",
        "- **Step 1:** Tokenize all tweets\n",
        "- **Step 2:** Lower case  all tokens\n",
        "- **Step 3:** Remove all punctuation\n",
        "- **Step 4:** Remove @mentions\n",
        "- **Step 5:** html.unescape(text) to remove HTML parsing\n",
        "- **Step 6:** Remove urls\n",
        "- **Step 7:** Remove all non asci characters\n",
        "- **Step 8:** Split attached words\n",
        "- **Step 9:** Remove common words related to the event itself such as **sxsw**\n",
        "- **Step 10:** Standardise words (if they use too many letters)\n",
        "- **Step 11:** Stem/lemmatise words\n",
        "\n",
        "This will then allow us to fit out models with a cleaner, hopefully more robust dataset.\n"
      ]
    },
    {
      "cell_type": "code",
      "execution_count": 25,
      "metadata": {
        "id": "5J01tvzuCR98"
      },
      "outputs": [],
      "source": [
        "def get_wordnet_pos(tag):\n",
        "    '''\n",
        "    Translate nltk POS to wordnet tags\n",
        "    '''\n",
        "    if tag.startswith('J'):\n",
        "        return wordnet.ADJ\n",
        "    elif tag.startswith('V'):\n",
        "        return wordnet.VERB\n",
        "    elif tag.startswith('N'):\n",
        "        return wordnet.NOUN\n",
        "    elif tag.startswith('R'):\n",
        "        return wordnet.ADV\n",
        "    else:\n",
        "        return wordnet.NOUN"
      ]
    },
    {
      "cell_type": "code",
      "source": [
        "nltk.download('stopwords')"
      ],
      "metadata": {
        "colab": {
          "base_uri": "https://localhost:8080/"
        },
        "id": "5H5lZ3l-DFwc",
        "outputId": "31cd43be-35b8-4ec1-90b6-edfbb6291115"
      },
      "execution_count": 26,
      "outputs": [
        {
          "output_type": "stream",
          "name": "stderr",
          "text": [
            "[nltk_data] Downloading package stopwords to /root/nltk_data...\n",
            "[nltk_data]   Unzipping corpora/stopwords.zip.\n"
          ]
        },
        {
          "output_type": "execute_result",
          "data": {
            "text/plain": [
              "True"
            ]
          },
          "metadata": {},
          "execution_count": 26
        }
      ]
    },
    {
      "cell_type": "code",
      "execution_count": 27,
      "metadata": {
        "id": "1qHDESX3CR98"
      },
      "outputs": [],
      "source": [
        "sw = stopwords.words('english')\n",
        "additional_sw = ['sxsw', 'link', 'quot', 'lt', 'amp', 'gt', 'mention']\n",
        "\n",
        "## Adding in additional words that should be removed as stopwords, since they add no value to the messages\n",
        "sw.extend(additional_sw)"
      ]
    },
    {
      "cell_type": "code",
      "execution_count": 28,
      "metadata": {
        "id": "bHJW7rK3CR98"
      },
      "outputs": [],
      "source": [
        "def tweet_preprocessor(tweet, stop_words=sw):\n",
        "    '''\n",
        "    Takes in a raw formatted tweet from the dataset\n",
        "    \n",
        "    Returns: A tweet which has:\n",
        "        - Removed stopwords\n",
        "        - Removed URLs\n",
        "        - Removed @mentions\n",
        "        - Removed HTML tags\n",
        "        - Removed SXSW string\n",
        "        - Removed all characters which aren't letters or numbers\n",
        "        - Lower cased all words\n",
        "        - Split up any attached words\n",
        "        - Standardised any words\n",
        "        - Lemmatised words\n",
        "    '''\n",
        "      \n",
        "    regex_token = RegexpTokenizer(r\"([a-zA-Z0-9]+(?:’[a-z]+)?)\")\n",
        "    tweet = regex_token.tokenize(tweet)\n",
        "    tweet = [word.lower() for word in tweet]\n",
        "    tweet = [word for word in tweet if word not in sw]\n",
        "    tweet = pos_tag(tweet)\n",
        "    tweet = [(word[0], get_wordnet_pos(word[1])) for word in tweet]\n",
        "    lemmatizer = WordNetLemmatizer() \n",
        "    tweet = [lemmatizer.lemmatize(word[0], word[1]) for word in tweet]\n",
        "    return ' '.join(tweet)\n"
      ]
    },
    {
      "cell_type": "code",
      "execution_count": 29,
      "metadata": {
        "id": "wMqpnHe6CR99"
      },
      "outputs": [],
      "source": [
        "## Performs all relevant pre-processing steps on our training dataset\n",
        "token_tweets = [tweet_preprocessor(tweet, sw) for tweet in X_train]"
      ]
    },
    {
      "cell_type": "code",
      "execution_count": 30,
      "metadata": {
        "id": "r93Qi4QlCR99",
        "outputId": "31837471-e15e-4909-a47a-cfaa89af05a0",
        "colab": {
          "base_uri": "https://localhost:8080/"
        }
      },
      "outputs": [
        {
          "output_type": "execute_result",
          "data": {
            "text/plain": [
              "2    4311\n",
              "1    2382\n",
              "0     456\n",
              "Name: category_id, dtype: int64"
            ]
          },
          "metadata": {},
          "execution_count": 30
        }
      ],
      "source": [
        "## understand the distribution of tweets between each class\n",
        "y_train.value_counts()"
      ]
    },
    {
      "cell_type": "code",
      "execution_count": 31,
      "metadata": {
        "id": "8RpeuCc7CR9-"
      },
      "outputs": [],
      "source": [
        "def train_predict_model(classifier, train_df, label, test_df):\n",
        "    \n",
        "    # fit the training dataset on the classifier\n",
        "    classifier.fit(train_df, label)\n",
        "    \n",
        "    # predict the labels on test dataset\n",
        "    predictions = classifier.predict(test_df)\n",
        "    \n",
        "    #plot_confusion_matrix(classifier, test_df, predictions)\n",
        "    return predictions, classifier.fit(train_df, label)"
      ]
    },
    {
      "cell_type": "code",
      "execution_count": 32,
      "metadata": {
        "id": "eYdXu1jOCR9-"
      },
      "outputs": [],
      "source": [
        "def prepare_transformed_datasets(model, X_train_df, y_train_df, X_val_df, y_val_df):\n",
        "    \n",
        "    X_t_vec = model.fit_transform(X_train_df)\n",
        "    X_t_vec  = pd.DataFrame.sparse.from_spmatrix(X_t_vec)\n",
        "    X_t_vec.columns = sorted(model.vocabulary_)\n",
        "    X_t_vec.set_index(y_train_df.index, inplace=True)\n",
        "\n",
        "    X_val_vec = model.transform(X_val_df)\n",
        "    X_val_vec  = pd.DataFrame.sparse.from_spmatrix(X_val_vec)\n",
        "    X_val_vec.columns = sorted(model.vocabulary_)\n",
        "    X_val_vec.set_index(y_val_df.index, inplace=True)\n",
        "    \n",
        "    return X_t_vec, X_val_vec"
      ]
    },
    {
      "cell_type": "markdown",
      "source": [
        "## Most frequent words - Word cloud"
      ],
      "metadata": {
        "id": "jLG2xHlyDO7r"
      }
    },
    {
      "cell_type": "code",
      "source": [
        "from wordcloud import WordCloud \n",
        "import PIL\n",
        "\n",
        "# Extracting positive sentiment tweets and preparing for the text pre-processing stage\n",
        "pos_tweets = tweet_df[tweet_df['category_id'] == 1]\n",
        "pos_tweets_text = pos_tweets['tweet_text']\n",
        "\n",
        "# Extracting negative sentiment tweets and preparing for the text pre-processing stage\n",
        "neg_tweets = tweet_df[tweet_df['category_id'] == 0]\n",
        "neg_tweets_text = neg_tweets['tweet_text']"
      ],
      "metadata": {
        "id": "N2nSihFcDVWh"
      },
      "execution_count": 33,
      "outputs": []
    },
    {
      "cell_type": "code",
      "source": [
        "# Adding additional words to include when looking to remove stop words, these focus predominantly on both the products and brands\n",
        "additional_stopwords = ['iphone', 'rt', 'ipad', 'ipad2', 'apple', 'google']\n",
        "\n",
        "sw.extend(additional_stopwords)"
      ],
      "metadata": {
        "id": "OVxV4QfIEgiW"
      },
      "execution_count": 34,
      "outputs": []
    },
    {
      "cell_type": "code",
      "source": [
        "token_pos_tweets = [tweet_preprocessor(tweet, sw) for tweet in pos_tweets_text.astype(str)]"
      ],
      "metadata": {
        "id": "UWnK4cJSEHKj"
      },
      "execution_count": 35,
      "outputs": []
    },
    {
      "cell_type": "code",
      "source": [
        "pos_wordcloud = WordCloud(background_color=\"white\", stopwords=sw).generate(str(token_pos_tweets))"
      ],
      "metadata": {
        "id": "h-I1VdvpEP2T"
      },
      "execution_count": 36,
      "outputs": []
    },
    {
      "cell_type": "code",
      "source": [
        "# visualising wordcloud for positive sentiment tweets\n",
        "plt.imshow(pos_wordcloud, interpolation='bilinear')\n",
        "plt.axis(\"off\")\n",
        "plt.show()\n"
      ],
      "metadata": {
        "colab": {
          "base_uri": "https://localhost:8080/",
          "height": 285
        },
        "id": "tq5fyue2ETwr",
        "outputId": "9f62690e-b45e-4e0c-ddd5-64b36a8a19e3"
      },
      "execution_count": 37,
      "outputs": [
        {
          "output_type": "display_data",
          "data": {
            "text/plain": [
              "<Figure size 640x480 with 1 Axes>"
            ],
            "image/png": "[encoded data removed]"
          },
          "metadata": {}
        }
      ]
    },
    {
      "cell_type": "code",
      "source": [
        "token_neg_tweets = [tweet_preprocessor(tweet, sw) for tweet in neg_tweets_text.astype(str)]"
      ],
      "metadata": {
        "id": "apjgIwOzEw9e"
      },
      "execution_count": 38,
      "outputs": []
    },
    {
      "cell_type": "code",
      "source": [
        "neg_wordcloud = WordCloud(background_color=\"white\", stopwords=sw).generate(str(token_neg_tweets))"
      ],
      "metadata": {
        "id": "733pY24EE3fK"
      },
      "execution_count": 39,
      "outputs": []
    },
    {
      "cell_type": "code",
      "source": [
        "# visualising wordcloud for negative sentiment tweets\n",
        "plt.imshow(neg_wordcloud, interpolation='bilinear')\n",
        "plt.axis(\"off\")\n",
        "plt.show()"
      ],
      "metadata": {
        "colab": {
          "base_uri": "https://localhost:8080/",
          "height": 285
        },
        "id": "kLwKDgozE8zE",
        "outputId": "a5aca398-4613-493d-860e-de03d1b918e1"
      },
      "execution_count": 40,
      "outputs": [
        {
          "output_type": "display_data",
          "data": {
            "text/plain": [
              "<Figure size 640x480 with 1 Axes>"
            ],
            "image/png": "[encoded data removed]"
          },
          "metadata": {}
        }
      ]
    },
    {
      "cell_type": "markdown",
      "source": [
        "Above we can see which words are the most popular in either the positive or negative sentiment tweets. This just helps to get a flavour and indictation whether more pre-processing/stop words need to be added and removed to improve overall performance, however for now we'll look to proceed into the modelling stage of the project."
      ],
      "metadata": {
        "id": "1IBIGvnc5yjQ"
      }
    },
    {
      "cell_type": "markdown",
      "metadata": {
        "id": "frrft6otCR-K"
      },
      "source": [
        "## Binary Classification - Positive & Negative Tweets only"
      ]
    },
    {
      "cell_type": "code",
      "execution_count": 41,
      "metadata": {
        "id": "WwcscQTkCR-K"
      },
      "outputs": [],
      "source": [
        "# Building classification model which ignores all neutral based tweets\n",
        "tweet_df_bin = tweet_df[tweet_df['category_id'].isin([0,1])]\n",
        "X_bin = tweet_df_bin['tweet_text'].astype(str)\n",
        "y_bin = tweet_df_bin['category_id']"
      ]
    },
    {
      "cell_type": "code",
      "execution_count": 42,
      "metadata": {
        "id": "tTyS-FssCR-M"
      },
      "outputs": [],
      "source": [
        "X_train_bin, X_test_bin, y_train_bin, y_test_bin = train_test_split(X_bin, y_bin, test_size =0.2, random_state=42, stratify=y_bin)"
      ]
    },
    {
      "cell_type": "code",
      "execution_count": 43,
      "metadata": {
        "id": "spAHVi2qCR-M"
      },
      "outputs": [],
      "source": [
        "# Preprocessing the training dataset\n",
        "token_tweets = [tweet_preprocessor(tweet, sw) for tweet in X_train_bin]"
      ]
    },
    {
      "cell_type": "code",
      "execution_count": 44,
      "metadata": {
        "id": "Ja7Dgo5CCR-N"
      },
      "outputs": [],
      "source": [
        "# Secondary train-test split to build our best model\n",
        "X_t_bin, X_val_bin, y_t_bin, y_val_bin = train_test_split(token_tweets, y_train_bin,\n",
        "                                          test_size=0.25, random_state=42, stratify=y_train_bin)"
      ]
    },
    {
      "cell_type": "markdown",
      "metadata": {
        "id": "Cfyw6VF1CR-N"
      },
      "source": [
        "### CountVectorizer Multinomial Naive Bayes"
      ]
    },
    {
      "cell_type": "code",
      "execution_count": 45,
      "metadata": {
        "id": "csu821SdCR-N"
      },
      "outputs": [],
      "source": [
        "X_train_vec, X_val_vec = prepare_transformed_datasets(CountVectorizer(), X_t_bin, y_t_bin, X_val_bin, y_val_bin)"
      ]
    },
    {
      "cell_type": "code",
      "execution_count": 46,
      "metadata": {
        "id": "ELUoMRJSCR-N"
      },
      "outputs": [],
      "source": [
        "prediction, model = train_predict_model(MultinomialNB(), X_train_vec, y_t_bin, X_val_vec)"
      ]
    },
    {
      "cell_type": "code",
      "execution_count": 47,
      "metadata": {
        "id": "ePIWW8uKCR-O",
        "outputId": "70f07d1b-672d-458d-e3bc-703447df12a8",
        "colab": {
          "base_uri": "https://localhost:8080/"
        }
      },
      "outputs": [
        {
          "output_type": "execute_result",
          "data": {
            "text/plain": [
              "0.8746478873239436"
            ]
          },
          "metadata": {},
          "execution_count": 47
        }
      ],
      "source": [
        "accuracy_score(y_val_bin, prediction)\n"
      ]
    },
    {
      "cell_type": "code",
      "execution_count": 48,
      "metadata": {
        "id": "UboHKaYMCR-O",
        "outputId": "99222768-f70b-47ff-e2b3-a576e5beaa98",
        "colab": {
          "base_uri": "https://localhost:8080/"
        }
      },
      "outputs": [
        {
          "output_type": "execute_result",
          "data": {
            "text/plain": [
              "array([[ 38,  76],\n",
              "       [ 13, 583]])"
            ]
          },
          "metadata": {},
          "execution_count": 48
        }
      ],
      "source": [
        "cm = confusion_matrix(y_val_bin, prediction)\n",
        "cm"
      ]
    },
    {
      "cell_type": "code",
      "source": [],
      "metadata": {
        "id": "F0GUstU9FRs5"
      },
      "execution_count": null,
      "outputs": []
    },
    {
      "cell_type": "code",
      "execution_count": 49,
      "metadata": {
        "id": "kRo6OWWXCR-O"
      },
      "outputs": [],
      "source": [
        "cm_df = pd.DataFrame(cm,\n",
        "                     index = ['negative','positive'], \n",
        "                     columns = ['negative','positive'])"
      ]
    },
    {
      "cell_type": "code",
      "execution_count": 50,
      "metadata": {
        "id": "pGZqBye2CR-O",
        "outputId": "2213b69d-13f9-4b71-d623-7246226f7712",
        "colab": {
          "base_uri": "https://localhost:8080/",
          "height": 410
        }
      },
      "outputs": [
        {
          "output_type": "display_data",
          "data": {
            "text/plain": [
              "<Figure size 500x400 with 2 Axes>"
            ],
            "image/png": "[encoded data removed]"
          },
          "metadata": {}
        }
      ],
      "source": [
        "plt.figure(figsize=(5,4))\n",
        "sns.heatmap(cm_df, annot=True)\n",
        "plt.title('Confusion Matrix')\n",
        "plt.ylabel('Actal Values')\n",
        "plt.xlabel('Predicted Values')\n",
        "plt.show()"
      ]
    },
    {
      "cell_type": "code",
      "execution_count": 67,
      "metadata": {
        "id": "TbnriFxMCR-P",
        "outputId": "7936ecf7-2da2-40ec-86e4-708d22fd891e",
        "colab": {
          "base_uri": "https://localhost:8080/"
        }
      },
      "outputs": [
        {
          "output_type": "execute_result",
          "data": {
            "text/plain": [
              "0.8746478873239436"
            ]
          },
          "metadata": {},
          "execution_count": 67
        }
      ],
      "source": [
        "recall_count_mnb = recall_score(y_val_bin, prediction, average = 'weighted')\n",
        "recall_count_mnb"
      ]
    },
    {
      "cell_type": "code",
      "execution_count": 52,
      "metadata": {
        "id": "sQuscozpCR-P",
        "outputId": "d3d0bd1d-c048-420a-dfae-b461d3b31132",
        "colab": {
          "base_uri": "https://localhost:8080/"
        }
      },
      "outputs": [
        {
          "output_type": "stream",
          "name": "stdout",
          "text": [
            "              precision    recall  f1-score   support\n",
            "\n",
            "           0      0.745     0.333     0.461       114\n",
            "           1      0.885     0.978     0.929       596\n",
            "\n",
            "    accuracy                          0.875       710\n",
            "   macro avg      0.815     0.656     0.695       710\n",
            "weighted avg      0.862     0.875     0.854       710\n",
            "\n"
          ]
        }
      ],
      "source": [
        "print(metrics.classification_report(y_val_bin, prediction, digits=3))"
      ]
    },
    {
      "cell_type": "code",
      "source": [
        "models_performance.append(('CountVectMNB-Binary',recall_count_mnb))"
      ],
      "metadata": {
        "id": "FcU70nYSEojF"
      },
      "execution_count": 68,
      "outputs": []
    },
    {
      "cell_type": "markdown",
      "source": [
        "Above we created our first classification model using CountVectorizer and Multinomial Naive Bayes. We then looked at the overall performance and the confusion matrix against our validation set, we can see that overall it was very successful in identifying positive sentiment tweets, however didn't perform as well on the negative sentiment scores. We can see this further by looking at the recall score, broken down by each classification, where only 33.3% of the negative sentiment tweets were actually labelled correctly.\n",
        "\n",
        "Let's see if we can look at additional models that can help improve this overall recall score.\n",
        "\n"
      ],
      "metadata": {
        "id": "xr0ChnJH6-6P"
      }
    },
    {
      "cell_type": "markdown",
      "metadata": {
        "id": "2yCOIVfeCR-Q"
      },
      "source": [
        "### Tf-idf Vectorizer Multinomial Naive Bayes"
      ]
    },
    {
      "cell_type": "code",
      "execution_count": 69,
      "metadata": {
        "id": "ZVI1WVMKCR-Q"
      },
      "outputs": [],
      "source": [
        "X_train_vec, X_val_vec = prepare_transformed_datasets(TfidfVectorizer(), X_t_bin, y_t_bin, X_val_bin, y_val_bin)"
      ]
    },
    {
      "cell_type": "code",
      "execution_count": 70,
      "metadata": {
        "id": "4Nz55uNmCR-Q"
      },
      "outputs": [],
      "source": [
        "prediction, model = train_predict_model(MultinomialNB(), X_train_vec, y_t_bin, X_val_vec)"
      ]
    },
    {
      "cell_type": "code",
      "execution_count": 71,
      "metadata": {
        "id": "NJ6GWLJ7CR-Q",
        "outputId": "1a0de4b7-e43b-46b6-edb5-3637e772f98d",
        "colab": {
          "base_uri": "https://localhost:8080/"
        }
      },
      "outputs": [
        {
          "output_type": "execute_result",
          "data": {
            "text/plain": [
              "0.8492957746478873"
            ]
          },
          "metadata": {},
          "execution_count": 71
        }
      ],
      "source": [
        "accuracy_score(y_val_bin, prediction)"
      ]
    },
    {
      "cell_type": "code",
      "execution_count": 72,
      "metadata": {
        "id": "8oNMsiP4CR-R",
        "outputId": "47e3ca3f-74c1-4a3c-bc35-03cc2102fc48",
        "colab": {
          "base_uri": "https://localhost:8080/"
        }
      },
      "outputs": [
        {
          "output_type": "execute_result",
          "data": {
            "text/plain": [
              "array([[  7, 107],\n",
              "       [  0, 596]])"
            ]
          },
          "metadata": {},
          "execution_count": 72
        }
      ],
      "source": [
        "cm = confusion_matrix(y_val_bin, prediction)\n",
        "cm"
      ]
    },
    {
      "cell_type": "code",
      "execution_count": 73,
      "metadata": {
        "id": "vR5JeiqTCR-R"
      },
      "outputs": [],
      "source": [
        "cm_df = pd.DataFrame(cm,\n",
        "                     index = ['negative','positive'], \n",
        "                     columns = ['negative','positive'])"
      ]
    },
    {
      "cell_type": "code",
      "execution_count": 74,
      "metadata": {
        "id": "C-ZOuLfZCR-R",
        "outputId": "73b57ed0-2351-4fe3-d966-50ee0782217e",
        "colab": {
          "base_uri": "https://localhost:8080/",
          "height": 410
        }
      },
      "outputs": [
        {
          "output_type": "display_data",
          "data": {
            "text/plain": [
              "<Figure size 500x400 with 2 Axes>"
            ],
            "image/png": "[encoded data removed]"
          },
          "metadata": {}
        }
      ],
      "source": [
        "plt.figure(figsize=(5,4))\n",
        "sns.heatmap(cm_df, annot=True)\n",
        "plt.title('Confusion Matrix')\n",
        "plt.ylabel('Actal Values')\n",
        "plt.xlabel('Predicted Values')\n",
        "plt.show()"
      ]
    },
    {
      "cell_type": "code",
      "execution_count": 75,
      "metadata": {
        "id": "1ZzQDSpuCR-R",
        "outputId": "c0f583b9-da7a-436b-c018-851c63b6c812",
        "colab": {
          "base_uri": "https://localhost:8080/"
        }
      },
      "outputs": [
        {
          "output_type": "stream",
          "name": "stdout",
          "text": [
            "              precision    recall  f1-score   support\n",
            "\n",
            "           0      1.000     0.061     0.116       114\n",
            "           1      0.848     1.000     0.918       596\n",
            "\n",
            "    accuracy                          0.849       710\n",
            "   macro avg      0.924     0.531     0.517       710\n",
            "weighted avg      0.872     0.849     0.789       710\n",
            "\n"
          ]
        }
      ],
      "source": [
        "print(metrics.classification_report(y_val_bin, prediction, digits=3))"
      ]
    },
    {
      "cell_type": "code",
      "source": [
        "recall_tfidf_mnb = recall_score(y_val_bin, prediction, average = 'weighted')\n",
        "\n",
        "models_performance.append(('tfidfVectMNB-Binary',recall_tfidf_mnb))"
      ],
      "metadata": {
        "id": "G1yGyclMHUa5"
      },
      "execution_count": 77,
      "outputs": []
    },
    {
      "cell_type": "markdown",
      "source": [
        "Next I wanted to see if changing the transformation layer of the model might help improve overall performance, this time by trying the tf-idf Vectorizer. As we can see by both the confusion matrix and the classification report, our recall score has significantly dropped using this model, therefore we continue to look for other options below."
      ],
      "metadata": {
        "id": "eK_sp60W9zWY"
      }
    },
    {
      "cell_type": "markdown",
      "metadata": {
        "id": "7BUp21oxCR-S"
      },
      "source": [
        "## Random Forest with Countvectorization"
      ]
    },
    {
      "cell_type": "code",
      "execution_count": 78,
      "metadata": {
        "id": "BNkX0YUYCR-T"
      },
      "outputs": [],
      "source": [
        "X_train_vec, X_val_vec = prepare_transformed_datasets(CountVectorizer(), X_t_bin, y_t_bin, X_val_bin, y_val_bin)"
      ]
    },
    {
      "cell_type": "code",
      "execution_count": 79,
      "metadata": {
        "id": "YQJCvv8mCR-T"
      },
      "outputs": [],
      "source": [
        "prediction, model = train_predict_model(RandomForestClassifier(n_estimators=1000, max_features=100, max_depth=10), X_train_vec, y_t_bin, X_val_vec)\n"
      ]
    },
    {
      "cell_type": "code",
      "execution_count": 80,
      "metadata": {
        "id": "NqTfR6vzCR-T",
        "outputId": "2be38afb-9030-4eb1-9bf4-47dd0b59d25f",
        "colab": {
          "base_uri": "https://localhost:8080/"
        }
      },
      "outputs": [
        {
          "output_type": "execute_result",
          "data": {
            "text/plain": [
              "0.8422535211267606"
            ]
          },
          "metadata": {},
          "execution_count": 80
        }
      ],
      "source": [
        "accuracy_score(y_val_bin, prediction)"
      ]
    },
    {
      "cell_type": "code",
      "execution_count": 81,
      "metadata": {
        "id": "sDAbMineCR-T",
        "outputId": "768f91f2-9a05-4a95-dce1-492c7c32ef0f",
        "colab": {
          "base_uri": "https://localhost:8080/"
        }
      },
      "outputs": [
        {
          "output_type": "execute_result",
          "data": {
            "text/plain": [
              "array([[  2, 112],\n",
              "       [  0, 596]])"
            ]
          },
          "metadata": {},
          "execution_count": 81
        }
      ],
      "source": [
        "cm = confusion_matrix(y_val_bin, prediction)\n",
        "cm"
      ]
    },
    {
      "cell_type": "code",
      "source": [
        "print(metrics.classification_report(y_val_bin, prediction, digits=3))"
      ],
      "metadata": {
        "colab": {
          "base_uri": "https://localhost:8080/"
        },
        "id": "u5Ie11p5_FSo",
        "outputId": "4331fdda-48e0-4219-f9d6-9ae8d3943832"
      },
      "execution_count": 82,
      "outputs": [
        {
          "output_type": "stream",
          "name": "stdout",
          "text": [
            "              precision    recall  f1-score   support\n",
            "\n",
            "           0      1.000     0.018     0.034       114\n",
            "           1      0.842     1.000     0.914       596\n",
            "\n",
            "    accuracy                          0.842       710\n",
            "   macro avg      0.921     0.509     0.474       710\n",
            "weighted avg      0.867     0.842     0.773       710\n",
            "\n"
          ]
        }
      ]
    },
    {
      "cell_type": "code",
      "source": [
        "recall_count_rf = recall_score(y_val_bin, prediction, average = 'weighted')\n",
        "\n",
        "models_performance.append(('countVectRF-Binary',recall_count_rf))"
      ],
      "metadata": {
        "id": "z-pklC_ZIB2z"
      },
      "execution_count": 83,
      "outputs": []
    },
    {
      "cell_type": "markdown",
      "source": [
        "When trying a different type of model, with the CountVectorizer method, we can see that overall performance on the binary classification model continues to not improve. As a result, we look to see if we can further expand our model to a multi-class classification model and what impact adding the additional class might have on overall performance."
      ],
      "metadata": {
        "id": "85YJ5mH7_JWf"
      }
    },
    {
      "cell_type": "markdown",
      "metadata": {
        "id": "WUYrJQ-lCR-U"
      },
      "source": [
        "## Multi-Classification Model"
      ]
    },
    {
      "cell_type": "code",
      "execution_count": 84,
      "metadata": {
        "id": "PJTCVe02CR-U"
      },
      "outputs": [],
      "source": [
        "X = tweet_df['tweet_text'].astype(str)\n",
        "y = tweet_df['category_id']"
      ]
    },
    {
      "cell_type": "code",
      "execution_count": 85,
      "metadata": {
        "id": "4qleP2pHCR-U"
      },
      "outputs": [],
      "source": [
        "X_train, X_test, y_train, y_test = train_test_split(X, y, test_size =0.2, random_state=42, stratify=y)"
      ]
    },
    {
      "cell_type": "code",
      "execution_count": 86,
      "metadata": {
        "id": "GXxYrpCMCR-U"
      },
      "outputs": [],
      "source": [
        "token_tweets = [tweet_preprocessor(tweet, sw) for tweet in X_train]"
      ]
    },
    {
      "cell_type": "code",
      "execution_count": 87,
      "metadata": {
        "id": "cUrXITtPCR-U"
      },
      "outputs": [],
      "source": [
        "# Secondary train-test split to build our best model\n",
        "X_t, X_val, y_t, y_val = train_test_split(token_tweets, y_train,\n",
        "                                          test_size=0.25, random_state=42, stratify=y_train)\n"
      ]
    },
    {
      "cell_type": "markdown",
      "metadata": {
        "id": "EoTsMzBBCR-V"
      },
      "source": [
        "### CountVectorizer Multinomial Naive Bayes"
      ]
    },
    {
      "cell_type": "code",
      "execution_count": 88,
      "metadata": {
        "id": "3d01Ql41CR-V"
      },
      "outputs": [],
      "source": [
        "X_train_vec, X_val_vec = prepare_transformed_datasets(CountVectorizer(), X_t, y_t, X_val, y_val)"
      ]
    },
    {
      "cell_type": "code",
      "execution_count": 89,
      "metadata": {
        "id": "zYvLX9cFCR-V"
      },
      "outputs": [],
      "source": [
        "prediction, model = train_predict_model(MultinomialNB(), X_train_vec, y_t, X_val_vec)"
      ]
    },
    {
      "cell_type": "code",
      "execution_count": 90,
      "metadata": {
        "id": "yvTDut9TCR-W",
        "outputId": "a2c405d0-2027-4495-a586-9994bfd9ee64",
        "colab": {
          "base_uri": "https://localhost:8080/"
        }
      },
      "outputs": [
        {
          "output_type": "execute_result",
          "data": {
            "text/plain": [
              "0.6476510067114094"
            ]
          },
          "metadata": {},
          "execution_count": 90
        }
      ],
      "source": [
        "accuracy_score(y_val, prediction)"
      ]
    },
    {
      "cell_type": "code",
      "execution_count": 91,
      "metadata": {
        "id": "1OntV8ZeCR-W",
        "outputId": "5dac91e7-7454-4f05-8a16-984565cd2317",
        "colab": {
          "base_uri": "https://localhost:8080/"
        }
      },
      "outputs": [
        {
          "output_type": "execute_result",
          "data": {
            "text/plain": [
              "array([[ 16,  42,  56],\n",
              "       [  1, 292, 303],\n",
              "       [ 14, 214, 850]])"
            ]
          },
          "metadata": {},
          "execution_count": 91
        }
      ],
      "source": [
        "cm = confusion_matrix(y_val, prediction)\n",
        "cm"
      ]
    },
    {
      "cell_type": "code",
      "execution_count": 92,
      "metadata": {
        "id": "QdMryM70CR-W"
      },
      "outputs": [],
      "source": [
        "cm_df = pd.DataFrame(cm,\n",
        "                     index = ['negative','positive','neutral'], \n",
        "                     columns = ['negative','positive','neutral'])"
      ]
    },
    {
      "cell_type": "code",
      "execution_count": 93,
      "metadata": {
        "id": "W7kGLZOGCR-X",
        "outputId": "5f02d8b4-3cb9-4260-9fd4-575854019ecb",
        "colab": {
          "base_uri": "https://localhost:8080/",
          "height": 410
        }
      },
      "outputs": [
        {
          "output_type": "display_data",
          "data": {
            "text/plain": [
              "<Figure size 500x400 with 2 Axes>"
            ],
            "image/png": "[encoded data removed]"
          },
          "metadata": {}
        }
      ],
      "source": [
        "plt.figure(figsize=(5,4))\n",
        "sns.heatmap(cm_df, annot=True)\n",
        "plt.title('Confusion Matrix')\n",
        "plt.ylabel('Actal Values')\n",
        "plt.xlabel('Predicted Values')\n",
        "plt.show()"
      ]
    },
    {
      "cell_type": "code",
      "execution_count": 94,
      "metadata": {
        "id": "Wqbo7pujCR-X"
      },
      "outputs": [],
      "source": [
        "recall_count_multi_mnb = recall_score(y_val, prediction, average = 'weighted')"
      ]
    },
    {
      "cell_type": "code",
      "execution_count": 95,
      "metadata": {
        "id": "ACFU3csSCR-Y",
        "outputId": "efa896ed-95e5-4add-8c17-550e85de866d",
        "colab": {
          "base_uri": "https://localhost:8080/"
        }
      },
      "outputs": [
        {
          "output_type": "stream",
          "name": "stdout",
          "text": [
            "              precision    recall  f1-score   support\n",
            "\n",
            "           0      0.516     0.140     0.221       114\n",
            "           1      0.533     0.490     0.510       596\n",
            "           2      0.703     0.788     0.743      1078\n",
            "\n",
            "    accuracy                          0.648      1788\n",
            "   macro avg      0.584     0.473     0.492      1788\n",
            "weighted avg      0.634     0.648     0.632      1788\n",
            "\n"
          ]
        }
      ],
      "source": [
        "print(metrics.classification_report(y_val, prediction, digits=3))"
      ]
    },
    {
      "cell_type": "code",
      "source": [
        "models_performance.append(('CountVectMNB-Multi', recall_count_multi_mnb))"
      ],
      "metadata": {
        "id": "Q-NhKE19I2Jc"
      },
      "execution_count": 96,
      "outputs": []
    },
    {
      "cell_type": "markdown",
      "source": [
        "Following the same approach as the binary classification model, we first started with the highest performing combination to see overall performance and recall score. As we can see, adding in the neutral tweets have really skewed overall performance, with both the positive and negative tweets really struggling to be separated and recognised through the model."
      ],
      "metadata": {
        "id": "OLGVu8qrAdP2"
      }
    },
    {
      "cell_type": "markdown",
      "source": [],
      "metadata": {
        "id": "b8StBfp4JDGi"
      }
    },
    {
      "cell_type": "markdown",
      "metadata": {
        "id": "C1Ffhxz7CR-Z"
      },
      "source": [
        "### Tf-idf Vectorizer Multinomial Naive Bayes"
      ]
    },
    {
      "cell_type": "code",
      "execution_count": 97,
      "metadata": {
        "id": "pr7WO_3GCR-Z"
      },
      "outputs": [],
      "source": [
        "X_train_vec, X_val_vec = prepare_transformed_datasets(TfidfVectorizer(), X_t, y_t, X_val, y_val)"
      ]
    },
    {
      "cell_type": "code",
      "execution_count": 98,
      "metadata": {
        "id": "sCR-aFtXCR-Z"
      },
      "outputs": [],
      "source": [
        "prediction, model = train_predict_model(MultinomialNB(), X_train_vec, y_t, X_val_vec)"
      ]
    },
    {
      "cell_type": "code",
      "execution_count": 99,
      "metadata": {
        "id": "QrlCv1bKCR-a",
        "outputId": "f3e3cab6-5f34-45fd-a5c4-29ed3d4af9f2",
        "colab": {
          "base_uri": "https://localhost:8080/"
        }
      },
      "outputs": [
        {
          "output_type": "execute_result",
          "data": {
            "text/plain": [
              "0.651565995525727"
            ]
          },
          "metadata": {},
          "execution_count": 99
        }
      ],
      "source": [
        "accuracy_score(y_val, prediction)"
      ]
    },
    {
      "cell_type": "code",
      "execution_count": 100,
      "metadata": {
        "id": "a5Yf8nPTCR-a",
        "outputId": "42b8b901-47a8-4643-b658-06fb56ba8b79",
        "colab": {
          "base_uri": "https://localhost:8080/"
        }
      },
      "outputs": [
        {
          "output_type": "execute_result",
          "data": {
            "text/plain": [
              "array([[   5,   10,   99],\n",
              "       [   0,  140,  456],\n",
              "       [   0,   58, 1020]])"
            ]
          },
          "metadata": {},
          "execution_count": 100
        }
      ],
      "source": [
        "cm = confusion_matrix(y_val, prediction)\n",
        "cm"
      ]
    },
    {
      "cell_type": "code",
      "execution_count": 101,
      "metadata": {
        "id": "u8gLh9L3CR-a"
      },
      "outputs": [],
      "source": [
        "cm_df = pd.DataFrame(cm,\n",
        "                     index = ['negative','positive','neutral'], \n",
        "                     columns = ['negative','positive','neutral'])"
      ]
    },
    {
      "cell_type": "code",
      "execution_count": 102,
      "metadata": {
        "id": "sYjPZteBCR-a",
        "outputId": "e7e12820-6733-4362-b715-4cdc1749f47e",
        "colab": {
          "base_uri": "https://localhost:8080/",
          "height": 410
        }
      },
      "outputs": [
        {
          "output_type": "display_data",
          "data": {
            "text/plain": [
              "<Figure size 500x400 with 2 Axes>"
            ],
            "image/png": "[encoded data removed]"
          },
          "metadata": {}
        }
      ],
      "source": [
        "plt.figure(figsize=(5,4))\n",
        "sns.heatmap(cm_df, annot=True)\n",
        "plt.title('Confusion Matrix')\n",
        "plt.ylabel('Actal Values')\n",
        "plt.xlabel('Predicted Values')\n",
        "plt.show()"
      ]
    },
    {
      "cell_type": "code",
      "execution_count": 103,
      "metadata": {
        "id": "Sou8iMnSCR-b"
      },
      "outputs": [],
      "source": [
        "recall_tfidf_multi_mnb = recall_score(y_val, prediction, average = 'weighted')"
      ]
    },
    {
      "cell_type": "code",
      "execution_count": 91,
      "metadata": {
        "id": "QHsXoujCCR-b",
        "outputId": "68806282-098d-44be-eb65-52dc3d507b27",
        "colab": {
          "base_uri": "https://localhost:8080/"
        }
      },
      "outputs": [
        {
          "output_type": "stream",
          "name": "stdout",
          "text": [
            "              precision    recall  f1-score   support\n",
            "\n",
            "           0      1.000     0.044     0.084       114\n",
            "           1      0.673     0.235     0.348       596\n",
            "           2      0.648     0.946     0.769      1078\n",
            "\n",
            "    accuracy                          0.652      1788\n",
            "   macro avg      0.774     0.408     0.400      1788\n",
            "weighted avg      0.679     0.652     0.585      1788\n",
            "\n"
          ]
        }
      ],
      "source": [
        "print(metrics.classification_report(y_val, prediction, digits=3))"
      ]
    },
    {
      "cell_type": "markdown",
      "source": [],
      "metadata": {
        "id": "mVzsjq_CJcs1"
      }
    },
    {
      "cell_type": "code",
      "source": [
        "models_performance.append(('TfidfVectMNB-Multi', recall_tfidf_multi_mnb))"
      ],
      "metadata": {
        "id": "U7bAz91hA3sq"
      },
      "execution_count": 104,
      "outputs": []
    },
    {
      "cell_type": "markdown",
      "source": [
        "Here we can see performance continues to get worse with this model set up, so we continue to explore other options in boosting model performance."
      ],
      "metadata": {
        "id": "wkmvYAZ4A5Mx"
      }
    },
    {
      "cell_type": "markdown",
      "metadata": {
        "id": "fVlarRyXCR-b"
      },
      "source": [
        "### CountVectoriser & Tf-idf  Multinomial NB\n",
        "\n"
      ]
    },
    {
      "cell_type": "code",
      "execution_count": 105,
      "metadata": {
        "id": "fiBLkIQLCR-d"
      },
      "outputs": [],
      "source": [
        "count_vect = CountVectorizer()\n",
        "X_train_counts = count_vect.fit_transform(X_t)\n",
        "tfidf_transformer = TfidfTransformer()\n",
        "X_train_tfidf = tfidf_transformer.fit_transform(X_train_counts)\n",
        "\n",
        "model = MultinomialNB()\n",
        "clf = model.fit(X_train_tfidf, y_t)\n"
      ]
    },
    {
      "cell_type": "code",
      "execution_count": 106,
      "metadata": {
        "id": "kWB5BvUFCR-d",
        "outputId": "127af8f3-d87d-4567-e54c-8440eec03414",
        "colab": {
          "base_uri": "https://localhost:8080/"
        }
      },
      "outputs": [
        {
          "output_type": "stream",
          "name": "stdout",
          "text": [
            "Accuracy: 0.651565995525727\n"
          ]
        }
      ],
      "source": [
        "X_test_tf = count_vect.transform(X_val)\n",
        "X_test_tfidf = tfidf_transformer.transform(X_test_tf)\n",
        "\n",
        "predicted = model.predict(X_test_tfidf)\n",
        "print(\"Accuracy:\", accuracy_score(y_val, predicted))\n"
      ]
    },
    {
      "cell_type": "code",
      "execution_count": 107,
      "metadata": {
        "id": "HAXgadiACR-d",
        "outputId": "f200940f-6476-4cb8-b9c3-bc9719f45e13",
        "colab": {
          "base_uri": "https://localhost:8080/"
        }
      },
      "outputs": [
        {
          "output_type": "execute_result",
          "data": {
            "text/plain": [
              "array([[   5,   10,   99],\n",
              "       [   0,  140,  456],\n",
              "       [   0,   58, 1020]])"
            ]
          },
          "metadata": {},
          "execution_count": 107
        }
      ],
      "source": [
        "cm = confusion_matrix(y_val, predicted)\n",
        "cm"
      ]
    },
    {
      "cell_type": "code",
      "execution_count": 110,
      "metadata": {
        "id": "MQX1cKBoCR-e",
        "outputId": "243dd777-d226-4a88-f35a-cb932af963d6",
        "colab": {
          "base_uri": "https://localhost:8080/"
        }
      },
      "outputs": [
        {
          "output_type": "stream",
          "name": "stdout",
          "text": [
            "              precision    recall  f1-score   support\n",
            "\n",
            "           0       1.00      0.04      0.08       114\n",
            "           1       0.67      0.23      0.35       596\n",
            "           2       0.65      0.95      0.77      1078\n",
            "\n",
            "    accuracy                           0.65      1788\n",
            "   macro avg       0.77      0.41      0.40      1788\n",
            "weighted avg       0.68      0.65      0.59      1788\n",
            "\n"
          ]
        }
      ],
      "source": [
        "print(metrics.classification_report(y_val, predicted))\n"
      ]
    },
    {
      "cell_type": "code",
      "source": [
        "recall_count_tfidf_multi_mnb = recall_score(y_val, predicted, average='weighted')\n",
        "\n",
        "models_performance.append(('CountTfidfVectMNB-Multi', recall_count_tfidf_multi_mnb))"
      ],
      "metadata": {
        "id": "zPK4qHRYJ-cF"
      },
      "execution_count": 111,
      "outputs": []
    },
    {
      "cell_type": "markdown",
      "metadata": {
        "id": "LdAED2I2CR-e"
      },
      "source": [
        "### RandomForest - Count Vectoriser"
      ]
    },
    {
      "cell_type": "code",
      "execution_count": 112,
      "metadata": {
        "id": "t2Ger_aQCR-f"
      },
      "outputs": [],
      "source": [
        "X_train_vec, X_val_vec = prepare_transformed_datasets(CountVectorizer(), X_t, y_t, X_val, y_val)"
      ]
    },
    {
      "cell_type": "code",
      "execution_count": 113,
      "metadata": {
        "id": "HVOxmHzJCR-f"
      },
      "outputs": [],
      "source": [
        "prediction, model = train_predict_model(RandomForestClassifier(n_estimators=5000, max_features=500, max_depth=10), X_train_vec, y_t, X_val_vec)\n"
      ]
    },
    {
      "cell_type": "code",
      "execution_count": 114,
      "metadata": {
        "id": "s0mfy8cICR-f",
        "outputId": "4f90f212-e401-42c7-d258-621f883725eb",
        "colab": {
          "base_uri": "https://localhost:8080/"
        }
      },
      "outputs": [
        {
          "output_type": "execute_result",
          "data": {
            "text/plain": [
              "0.6420581655480985"
            ]
          },
          "metadata": {},
          "execution_count": 114
        }
      ],
      "source": [
        "accuracy_score(y_val, prediction)"
      ]
    },
    {
      "cell_type": "code",
      "execution_count": 115,
      "metadata": {
        "id": "T09f5TmBCR-f",
        "outputId": "d09a6bcd-bde9-4740-9be2-879d3bb56489",
        "colab": {
          "base_uri": "https://localhost:8080/"
        }
      },
      "outputs": [
        {
          "output_type": "execute_result",
          "data": {
            "text/plain": [
              "array([[   0,    5,  109],\n",
              "       [   0,   92,  504],\n",
              "       [   0,   22, 1056]])"
            ]
          },
          "metadata": {},
          "execution_count": 115
        }
      ],
      "source": [
        "cm = confusion_matrix(y_val, prediction)\n",
        "cm"
      ]
    },
    {
      "cell_type": "code",
      "execution_count": 116,
      "metadata": {
        "id": "zpFBlR6ACR-g"
      },
      "outputs": [],
      "source": [
        "cm_df = pd.DataFrame(cm,\n",
        "                     index = ['negative','positive','neutral'], \n",
        "                     columns = ['negative','positive','neutral'])"
      ]
    },
    {
      "cell_type": "code",
      "execution_count": 117,
      "metadata": {
        "id": "-jqIQ-1gCR-g",
        "outputId": "45da326f-e453-4778-cf4e-eb89eebed919",
        "colab": {
          "base_uri": "https://localhost:8080/",
          "height": 410
        }
      },
      "outputs": [
        {
          "output_type": "display_data",
          "data": {
            "text/plain": [
              "<Figure size 500x400 with 2 Axes>"
            ],
            "image/png": "[encoded data removed]"
          },
          "metadata": {}
        }
      ],
      "source": [
        "plt.figure(figsize=(5,4))\n",
        "sns.heatmap(cm_df, annot=True)\n",
        "plt.title('Confusion Matrix')\n",
        "plt.ylabel('Actal Values')\n",
        "plt.xlabel('Predicted Values')\n",
        "plt.show()"
      ]
    },
    {
      "cell_type": "code",
      "execution_count": 121,
      "metadata": {
        "id": "zockM0lECR-g"
      },
      "outputs": [],
      "source": [
        "recall_count_rf_multi = recall_score(y_val, prediction, average = 'weighted')"
      ]
    },
    {
      "cell_type": "code",
      "execution_count": 119,
      "metadata": {
        "id": "jXt7tplMCR-h",
        "outputId": "7da455d7-90bc-471d-a98f-aad9969cf003",
        "colab": {
          "base_uri": "https://localhost:8080/"
        }
      },
      "outputs": [
        {
          "output_type": "stream",
          "name": "stdout",
          "text": [
            "              precision    recall  f1-score   support\n",
            "\n",
            "           0      0.000     0.000     0.000       114\n",
            "           1      0.773     0.154     0.257       596\n",
            "           2      0.633     0.980     0.769      1078\n",
            "\n",
            "    accuracy                          0.642      1788\n",
            "   macro avg      0.469     0.378     0.342      1788\n",
            "weighted avg      0.639     0.642     0.549      1788\n",
            "\n"
          ]
        },
        {
          "output_type": "stream",
          "name": "stderr",
          "text": [
            "/usr/local/lib/python3.10/dist-packages/sklearn/metrics/_classification.py:1344: UndefinedMetricWarning: Precision and F-score are ill-defined and being set to 0.0 in labels with no predicted samples. Use `zero_division` parameter to control this behavior.\n",
            "  _warn_prf(average, modifier, msg_start, len(result))\n",
            "/usr/local/lib/python3.10/dist-packages/sklearn/metrics/_classification.py:1344: UndefinedMetricWarning: Precision and F-score are ill-defined and being set to 0.0 in labels with no predicted samples. Use `zero_division` parameter to control this behavior.\n",
            "  _warn_prf(average, modifier, msg_start, len(result))\n",
            "/usr/local/lib/python3.10/dist-packages/sklearn/metrics/_classification.py:1344: UndefinedMetricWarning: Precision and F-score are ill-defined and being set to 0.0 in labels with no predicted samples. Use `zero_division` parameter to control this behavior.\n",
            "  _warn_prf(average, modifier, msg_start, len(result))\n"
          ]
        }
      ],
      "source": [
        "print(metrics.classification_report(y_val, prediction, digits=3))"
      ]
    },
    {
      "cell_type": "code",
      "source": [
        "models_performance.append(('CountVectRF-Multi', recall_count_rf_multi))"
      ],
      "metadata": {
        "id": "Bn7TIWmvKo24"
      },
      "execution_count": 122,
      "outputs": []
    },
    {
      "cell_type": "markdown",
      "source": [
        "We can see that this version of the model completely destroys overall recall score performance, especially when focusing on being able to identify negative sentiment tweets. So now we can look at the list of variations all in one table to understand which model combination drove the base performance and whether it improved against the baseline model."
      ],
      "metadata": {
        "id": "MRkwgy62Bha6"
      }
    },
    {
      "cell_type": "code",
      "source": [
        "models_performance_df = pd.DataFrame(models_performance, columns = ['Model Name', 'Recall Score'])\n",
        "\n",
        "models_performance_df"
      ],
      "metadata": {
        "id": "R5ZWQLqnLP8O",
        "outputId": "f85d673c-7e22-477e-ff03-924b8a3b4ad8",
        "colab": {
          "base_uri": "https://localhost:8080/",
          "height": 363
        }
      },
      "execution_count": 123,
      "outputs": [
        {
          "output_type": "execute_result",
          "data": {
            "text/plain": [
              "                Model Name  Recall Score\n",
              "0           Baseline-model      0.605615\n",
              "1      CountVectMNB-Binary      0.874648\n",
              "2      tfidfVectMNB-Binary      0.849296\n",
              "3      tfidfVectMNB-Binary      0.849296\n",
              "4       countVectRF-Binary      0.842254\n",
              "5       CountVectMNB-Multi      0.647651\n",
              "6       TfidfVectMNB-Multi      0.651566\n",
              "7  CountTfidfVectMNB-Multi      0.651566\n",
              "8  CountTfidfVectMNB-Multi      0.651566\n",
              "9        CountVectRF-Multi      0.642058"
            ],
            "text/html": [
              "\n",
              "  <div id=\"df-7a4016bb-1fff-4ae6-99e1-08480f94481a\">\n",
              "    <div class=\"colab-df-container\">\n",
              "      <div>\n",
              "<style scoped>\n",
              "    .dataframe tbody tr th:only-of-type {\n",
              "        vertical-align: middle;\n",
              "    }\n",
              "\n",
              "    .dataframe tbody tr th {\n",
              "        vertical-align: top;\n",
              "    }\n",
              "\n",
              "    .dataframe thead th {\n",
              "        text-align: right;\n",
              "    }\n",
              "</style>\n",
              "<table border=\"1\" class=\"dataframe\">\n",
              "  <thead>\n",
              "    <tr style=\"text-align: right;\">\n",
              "      <th></th>\n",
              "      <th>Model Name</th>\n",
              "      <th>Recall Score</th>\n",
              "    </tr>\n",
              "  </thead>\n",
              "  <tbody>\n",
              "    <tr>\n",
              "      <th>0</th>\n",
              "      <td>Baseline-model</td>\n",
              "      <td>0.605615</td>\n",
              "    </tr>\n",
              "    <tr>\n",
              "      <th>1</th>\n",
              "      <td>CountVectMNB-Binary</td>\n",
              "      <td>0.874648</td>\n",
              "    </tr>\n",
              "    <tr>\n",
              "      <th>2</th>\n",
              "      <td>tfidfVectMNB-Binary</td>\n",
              "      <td>0.849296</td>\n",
              "    </tr>\n",
              "    <tr>\n",
              "      <th>3</th>\n",
              "      <td>tfidfVectMNB-Binary</td>\n",
              "      <td>0.849296</td>\n",
              "    </tr>\n",
              "    <tr>\n",
              "      <th>4</th>\n",
              "      <td>countVectRF-Binary</td>\n",
              "      <td>0.842254</td>\n",
              "    </tr>\n",
              "    <tr>\n",
              "      <th>5</th>\n",
              "      <td>CountVectMNB-Multi</td>\n",
              "      <td>0.647651</td>\n",
              "    </tr>\n",
              "    <tr>\n",
              "      <th>6</th>\n",
              "      <td>TfidfVectMNB-Multi</td>\n",
              "      <td>0.651566</td>\n",
              "    </tr>\n",
              "    <tr>\n",
              "      <th>7</th>\n",
              "      <td>CountTfidfVectMNB-Multi</td>\n",
              "      <td>0.651566</td>\n",
              "    </tr>\n",
              "    <tr>\n",
              "      <th>8</th>\n",
              "      <td>CountTfidfVectMNB-Multi</td>\n",
              "      <td>0.651566</td>\n",
              "    </tr>\n",
              "    <tr>\n",
              "      <th>9</th>\n",
              "      <td>CountVectRF-Multi</td>\n",
              "      <td>0.642058</td>\n",
              "    </tr>\n",
              "  </tbody>\n",
              "</table>\n",
              "</div>\n",
              "      <button class=\"colab-df-convert\" onclick=\"convertToInteractive('df-7a4016bb-1fff-4ae6-99e1-08480f94481a')\"\n",
              "              title=\"Convert this dataframe to an interactive table.\"\n",
              "              style=\"display:none;\">\n",
              "        \n",
              "  <svg xmlns=\"http://www.w3.org/2000/svg\" height=\"24px\"viewBox=\"0 0 24 24\"\n",
              "       width=\"24px\">\n",
              "    <path d=\"M0 0h24v24H0V0z\" fill=\"none\"/>\n",
              "    <path d=\"M18.56 5.44l.94 2.06.94-2.06 2.06-.94-2.06-.94-.94-2.06-.94 2.06-2.06.94zm-11 1L8.5 8.5l.94-2.06 2.06-.94-2.06-.94L8.5 2.5l-.94 2.06-2.06.94zm10 10l.94 2.06.94-2.06 2.06-.94-2.06-.94-.94-2.06-.94 2.06-2.06.94z\"/><path d=\"M17.41 7.96l-1.37-1.37c-.4-.4-.92-.59-1.43-.59-.52 0-1.04.2-1.43.59L10.3 9.45l-7.72 7.72c-.78.78-.78 2.05 0 2.83L4 21.41c.39.39.9.59 1.41.59.51 0 1.02-.2 1.41-.59l7.78-7.78 2.81-2.81c.8-.78.8-2.07 0-2.86zM5.41 20L4 18.59l7.72-7.72 1.47 1.35L5.41 20z\"/>\n",
              "  </svg>\n",
              "      </button>\n",
              "      \n",
              "  <style>\n",
              "    .colab-df-container {\n",
              "      display:flex;\n",
              "      flex-wrap:wrap;\n",
              "      gap: 12px;\n",
              "    }\n",
              "\n",
              "    .colab-df-convert {\n",
              "      background-color: #E8F0FE;\n",
              "      border: none;\n",
              "      border-radius: 50%;\n",
              "      cursor: pointer;\n",
              "      display: none;\n",
              "      fill: #1967D2;\n",
              "      height: 32px;\n",
              "      padding: 0 0 0 0;\n",
              "      width: 32px;\n",
              "    }\n",
              "\n",
              "    .colab-df-convert:hover {\n",
              "      background-color: #E2EBFA;\n",
              "      box-shadow: 0px 1px 2px rgba(60, 64, 67, 0.3), 0px 1px 3px 1px rgba(60, 64, 67, 0.15);\n",
              "      fill: #174EA6;\n",
              "    }\n",
              "\n",
              "    [theme=dark] .colab-df-convert {\n",
              "      background-color: #3B4455;\n",
              "      fill: #D2E3FC;\n",
              "    }\n",
              "\n",
              "    [theme=dark] .colab-df-convert:hover {\n",
              "      background-color: #434B5C;\n",
              "      box-shadow: 0px 1px 3px 1px rgba(0, 0, 0, 0.15);\n",
              "      filter: drop-shadow(0px 1px 2px rgba(0, 0, 0, 0.3));\n",
              "      fill: #FFFFFF;\n",
              "    }\n",
              "  </style>\n",
              "\n",
              "      <script>\n",
              "        const buttonEl =\n",
              "          document.querySelector('#df-7a4016bb-1fff-4ae6-99e1-08480f94481a button.colab-df-convert');\n",
              "        buttonEl.style.display =\n",
              "          google.colab.kernel.accessAllowed ? 'block' : 'none';\n",
              "\n",
              "        async function convertToInteractive(key) {\n",
              "          const element = document.querySelector('#df-7a4016bb-1fff-4ae6-99e1-08480f94481a');\n",
              "          const dataTable =\n",
              "            await google.colab.kernel.invokeFunction('convertToInteractive',\n",
              "                                                     [key], {});\n",
              "          if (!dataTable) return;\n",
              "\n",
              "          const docLinkHtml = 'Like what you see? Visit the ' +\n",
              "            '<a target=\"_blank\" href=https://colab.research.google.com/notebooks/data_table.ipynb>data table notebook</a>'\n",
              "            + ' to learn more about interactive tables.';\n",
              "          element.innerHTML = '';\n",
              "          dataTable['output_type'] = 'display_data';\n",
              "          await google.colab.output.renderOutput(dataTable, element);\n",
              "          const docLink = document.createElement('div');\n",
              "          docLink.innerHTML = docLinkHtml;\n",
              "          element.appendChild(docLink);\n",
              "        }\n",
              "      </script>\n",
              "    </div>\n",
              "  </div>\n",
              "  "
            ]
          },
          "metadata": {},
          "execution_count": 123
        }
      ]
    },
    {
      "cell_type": "markdown",
      "metadata": {
        "id": "m-isf3SGCR-h"
      },
      "source": [
        "## Model Evaluation\n",
        "\n",
        "After evaluating several different transformations and models, with a focus on optimising towards our recall score, we are getting varied results, this could be due to several reasons, however the main one to call out is the fact that the initial dataset is heavily imbalanced towards the neutral tweet compared to the negative sentiment tweets. As a result on all of the models trialled the negative sentiment category always had the lowest results. \n",
        "\n",
        "The best performing model on both occassions has been the `CountVectorizer Multinomial Naive Bayes` model. This is because we want to focus on maxising the recall score for our negative sentiment tweets, which can be better seen in the classification report of each model."
      ]
    },
    {
      "cell_type": "markdown",
      "metadata": {
        "id": "PivVzuD0CR-h"
      },
      "source": [
        "## Future steps & Limitations\n",
        "\n",
        "In order to further refine the model in the future, the following limitations need to be addressed:\n",
        "\n",
        "- Collect more data that allows the class imbalance between categories to be more balanced\n",
        "\n",
        "Improvements could be made by switching approach from trialling out supervised ML models such as logisitic regression, RandomForest and Multinomial Naive Bayes. Instead it is worth testing out a CNN approach using more advanced techniques such as gensim, GloVe and Word2Vec to help us the hidden layer inside the neural networks to better make the connection between the context of the tweet and the overall sentiment"
      ]
    },
    {
      "cell_type": "markdown",
      "source": [
        "## Recommendations\n",
        "\n",
        "Looking back to the use cases that this project held, the main recommendations on how to utilise this project are listed below:\n",
        "\n",
        "- Continue to further iterate on the model to improve overall recall and accuracy scores to a threshold we're happy with this can first be handled by reducing the class imbalance within the training dataset and then trying to build neural networks for the model, afterwards\n",
        "- Look to set up business practices that help to monitor all social media engagement and highlight when any negative comments are raised about the brand or specific product\n",
        "- Establish a ways of working where teams further investigate the negative comments to perform root cause analysis and present back to product/leadership teams on a regular basis"
      ],
      "metadata": {
        "id": "9ZBZFhsfz4kV"
      }
    }
  ],
  "metadata": {
    "kernelspec": {
      "display_name": "Python 3",
      "language": "python",
      "name": "python3"
    },
    "language_info": {
      "codemirror_mode": {
        "name": "ipython",
        "version": 3
      },
      "file_extension": ".py",
      "mimetype": "text/x-python",
      "name": "python",
      "nbconvert_exporter": "python",
      "pygments_lexer": "ipython3",
      "version": "3.8.5"
    },
    "colab": {
      "provenance": []
    }
  },
  "nbformat": 4,
  "nbformat_minor": 0
}